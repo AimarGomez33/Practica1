import matplotlib.pyplot as plt
import pandas as pd
import scipy.cluster.hierarchy
import numpy as np






df = pd.read_csv("estudiantes.csv")


print(df)


plt.scatter(df["Calificación"], df["Horas_de_estudio"], color='blue')
plt.xlabel("Calificacion")      
plt.ylabel("Horas de estudio") 
plt.grid(True)
plt.show()


n = len(df["Calificación"])
m = len(df["Horas_de_estudio"])
matrizDistancias= np.zeros((n, m)) 


calificaciones = df["Calificación"].to_numpy()
horas = df["Horas_de_estudio"].to_numpy()

print(calificaciones, horas)


for i in range(n):
    for j in range(n):
        dx = calificaciones[i] - calificaciones[j]
        dy = horas[i] - horas[j]
        distancia = dx**2 + dy**2
        matrizDistancias[i][j] = distancia

print(matrizDistancias)


matriz = pd.DataFrame(etiquetas)
similaridades = np.zeros((n,m))
sim = np.min(matrizDistancias[np.nonzero(matrizDistancias)])
print("distancia minima: ", sim)
posicion = np.where(matrizDistancias == sim)
print(posicion)
similaridades[0][0] = posicion[0]


par = (posicion[0][0], posicion[1][0])
print("pares: ", pares)
pares_array = np.zeros(m, dtype=object)
print(par)
pares_array[0] = par
print(pares_array)


M = matrizDistancias.copy()



