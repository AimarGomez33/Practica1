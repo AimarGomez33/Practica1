{
  "cells": [
    {
      "cell_type": "code",
      "execution_count": 1456,
      "id": "eec5301c-3a01-4ab0-b427-09a63042b44c",
      "metadata": {
        "id": "eec5301c-3a01-4ab0-b427-09a63042b44c"
      },
      "outputs": [],
      "source": [
        "import matplotlib.pyplot as plt\n",
        "import pandas as pd\n",
        "import scipy.cluster.hierarchy\n",
        "import numpy as np\n"
      ]
    },
    {
      "cell_type": "markdown",
      "id": "97462ca0-ed9a-4dce-a8d1-9b6c654b43aa",
      "metadata": {
        "id": "97462ca0-ed9a-4dce-a8d1-9b6c654b43aa"
      },
      "source": [
        "| Estudiante   | Calificación | Horas de estudio |\n",
        "|--------------|--------------|------------------|\n",
        "| Estudiante_1 | 85           | 10               |\n",
        "| Estudiante_2 | 90           | 12               |\n",
        "| Estudiante_3 | 70           | 6                |\n",
        "| Estudiante_4 | 88           | 9                |\n",
        "| Estudiante_5 | 95           | 15               |\n",
        "| Estudiante_6 | 60           | 4                |\n",
        "| Estudiante_7 | 78           | 7                |\n",
        "| Estudiante_8 | 82           | 8                |\n",
        "| Estudiante_9 | 91           | 13               |\n",
        "| Estudiante_10| 74           | 5                |\n"
      ]
    },
    {
      "cell_type": "code",
      "execution_count": 1457,
      "id": "2b6399da-8367-4f7d-bd23-50756cf8e890",
      "metadata": {
        "id": "2b6399da-8367-4f7d-bd23-50756cf8e890"
      },
      "outputs": [],
      "source": [
        "df = pd.read_csv(\"calificaciones_estudio.csv\")"
      ]
    },
    {
      "cell_type": "code",
      "execution_count": 1458,
      "id": "19ef484a-6534-409e-af54-979cbd6ea689",
      "metadata": {
        "id": "19ef484a-6534-409e-af54-979cbd6ea689",
        "outputId": "55ef5a4f-ff09-41a8-e223-9f89a295f193",
        "colab": {
          "base_uri": "https://localhost:8080/"
        }
      },
      "outputs": [
        {
          "output_type": "stream",
          "name": "stdout",
          "text": [
            "   Calificación  Horas_de_estudio\n",
            "0            85                10\n",
            "1            90                12\n",
            "2            70                 6\n",
            "3            88                 9\n",
            "4            95                15\n",
            "5            60                 4\n",
            "6            78                 7\n",
            "7            82                 8\n",
            "8            91                13\n",
            "9            74                 5\n"
          ]
        }
      ],
      "source": [
        "print(df)"
      ]
    },
    {
      "cell_type": "code",
      "execution_count": 1459,
      "id": "7b7b40c1-9f27-42da-8b43-003ee2f08fea",
      "metadata": {
        "scrolled": true,
        "id": "7b7b40c1-9f27-42da-8b43-003ee2f08fea",
        "outputId": "5352a627-d2f6-4561-806d-bd02d2d2f980",
        "colab": {
          "base_uri": "https://localhost:8080/",
          "height": 251
        }
      },
      "outputs": [
        {
          "output_type": "display_data",
          "data": {
            "text/plain": [
              "<Figure size 640x480 with 1 Axes>"
            ],
            "image/png": "[encoded data removed]"
          },
          "metadata": {}
        }
      ],
      "source": [
        "plt.scatter(df[\"Calificación\"], df[\"Horas_de_estudio\"], color='blue')\n",
        "plt.xlabel(\"Calificacion\")\n",
        "plt.ylabel(\"Horas de estudio\")\n",
        "plt.grid(True)\n",
        "plt.show()"
      ]
    },
    {
      "cell_type": "code",
      "execution_count": 1460,
      "id": "0993d15d-7c7a-4524-8fef-3b5c9b0c3f25",
      "metadata": {
        "id": "0993d15d-7c7a-4524-8fef-3b5c9b0c3f25"
      },
      "outputs": [],
      "source": [
        "n = len(df[\"Calificación\"])\n",
        "m = len(df[\"Horas_de_estudio\"])\n",
        "matrizDistancias= np.zeros((n, m), dtype= np.int64)"
      ]
    },
    {
      "cell_type": "code",
      "execution_count": 1461,
      "id": "0a5419b3-32fa-4bf1-85c8-e2c802f0a967",
      "metadata": {
        "id": "0a5419b3-32fa-4bf1-85c8-e2c802f0a967",
        "outputId": "b0ab597f-ae5e-425f-e933-44aa4314ed96",
        "colab": {
          "base_uri": "https://localhost:8080/"
        }
      },
      "outputs": [
        {
          "output_type": "stream",
          "name": "stdout",
          "text": [
            "[85 90 70 88 95 60 78 82 91 74] [10 12  6  9 15  4  7  8 13  5]\n"
          ]
        }
      ],
      "source": [
        "calificaciones = df[\"Calificación\"].to_numpy()\n",
        "horas = df[\"Horas_de_estudio\"].to_numpy()\n",
        "\n",
        "print(calificaciones, horas)"
      ]
    },
    {
      "cell_type": "code",
      "execution_count": 1462,
      "id": "1887efb5-b5ed-4d20-9811-2ca3a91aef7f",
      "metadata": {
        "id": "1887efb5-b5ed-4d20-9811-2ca3a91aef7f",
        "outputId": "cae10523-799c-435a-88c3-780c7d0e6fec",
        "colab": {
          "base_uri": "https://localhost:8080/"
        }
      },
      "outputs": [
        {
          "output_type": "stream",
          "name": "stdout",
          "text": [
            "[[   0   29  241   10  125  661   58   13   45  146]\n",
            " [  29    0  436   13   34  964  169   80    2  305]\n",
            " [ 241  436    0  333  706  104   65  148  490   17]\n",
            " [  10   13  333    0   85  809  104   37   25  212]\n",
            " [ 125   34  706   85    0 1346  353  218   20  541]\n",
            " [ 661  964  104  809 1346    0  333  500 1042  197]\n",
            " [  58  169   65  104  353  333    0   17  205   20]\n",
            " [  13   80  148   37  218  500   17    0  106   73]\n",
            " [  45    2  490   25   20 1042  205  106    0  353]\n",
            " [ 146  305   17  212  541  197   20   73  353    0]]\n"
          ]
        }
      ],
      "source": [
        "for i in range(n):\n",
        "    for j in range(n):\n",
        "        dx = calificaciones[i] - calificaciones[j]\n",
        "        dy = horas[i] - horas[j]\n",
        "        distancia = dx**2 + dy**2\n",
        "        matrizDistancias[i][j] = distancia\n",
        "\n",
        "print(matrizDistancias)"
      ]
    },
    {
      "cell_type": "code",
      "execution_count": 1463,
      "id": "0714b154-3187-47e0-89f4-ea15ecf5bc2a",
      "metadata": {
        "id": "0714b154-3187-47e0-89f4-ea15ecf5bc2a",
        "outputId": "82c7890a-310f-4184-da36-3cc80489394c",
        "colab": {
          "base_uri": "https://localhost:8080/"
        }
      },
      "outputs": [
        {
          "output_type": "stream",
          "name": "stdout",
          "text": [
            "distancia minima:  2\n",
            "(array([1, 8]), array([8, 1]))\n"
          ]
        }
      ],
      "source": [
        "#matriz = pd.DataFrame(etiquetas)\n",
        "#similaridades = np.zeros((n,m))\n",
        "sim = np.min(matrizDistancias[np.nonzero(matrizDistancias)])\n",
        "print(\"distancia minima: \", sim)\n",
        "posicion = np.where(matrizDistancias == sim)\n",
        "print(posicion)\n",
        "#similaridades[0][0] = posicion[0]"
      ]
    },
    {
      "cell_type": "code",
      "execution_count": 1464,
      "id": "2e45b2f9-e994-4f30-9934-8a9ca7219812",
      "metadata": {
        "id": "2e45b2f9-e994-4f30-9934-8a9ca7219812",
        "outputId": "536d1117-35c9-4fbc-e54d-ab137ca3d7ed",
        "colab": {
          "base_uri": "https://localhost:8080/"
        }
      },
      "outputs": [
        {
          "output_type": "stream",
          "name": "stdout",
          "text": [
            "pares:  (np.int64(1), np.int64(8))\n",
            "(np.int64(1), np.int64(8))\n",
            "[(np.int64(1), np.int64(8)) 0 0 0 0 0 0 0 0 0]\n"
          ]
        }
      ],
      "source": [
        "par = (posicion[0][0], posicion[1][0])\n",
        "print(\"pares: \", par)\n",
        "pares_array = np.zeros(m, dtype=object)\n",
        "print(par)\n",
        "pares_array[0] = par\n",
        "print(pares_array)"
      ]
    },
    {
      "cell_type": "code",
      "execution_count": 1465,
      "id": "f4762c75-4c49-4e84-a533-e9f30dc0112f",
      "metadata": {
        "id": "f4762c75-4c49-4e84-a533-e9f30dc0112f",
        "outputId": "e68e3b34-d680-464e-9bf9-b8e56679d346",
        "colab": {
          "base_uri": "https://localhost:8080/"
        }
      },
      "outputs": [
        {
          "output_type": "stream",
          "name": "stdout",
          "text": [
            "[[   0   29  241   10  125  661   58   13   45  146]\n",
            " [  29    0  436   13   34  964  169   80    2  305]\n",
            " [ 241  436    0  333  706  104   65  148  490   17]\n",
            " [  10   13  333    0   85  809  104   37   25  212]\n",
            " [ 125   34  706   85    0 1346  353  218   20  541]\n",
            " [ 661  964  104  809 1346    0  333  500 1042  197]\n",
            " [  58  169   65  104  353  333    0   17  205   20]\n",
            " [  13   80  148   37  218  500   17    0  106   73]\n",
            " [  45    2  490   25   20 1042  205  106    0  353]\n",
            " [ 146  305   17  212  541  197   20   73  353    0]]\n"
          ]
        }
      ],
      "source": [
        "M = matrizDistancias.copy()\n",
        "print(M)"
      ]
    },
    {
      "cell_type": "code",
      "execution_count": 1466,
      "id": "26dc7b63-00f2-40b0-a854-5310c24c23ae",
      "metadata": {
        "id": "26dc7b63-00f2-40b0-a854-5310c24c23ae",
        "outputId": "74141086-0a17-4d79-c3d7-1eb2637e9ce8",
        "colab": {
          "base_uri": "https://localhost:8080/"
        }
      },
      "outputs": [
        {
          "output_type": "stream",
          "name": "stdout",
          "text": [
            "      E1   E2   E3   E4    E5    E6   E7   E8    E9  E10\n",
            "E1     0   29  241   10   125   661   58   13    45  146\n",
            "E2    29    0  436   13    34   964  169   80     2  305\n",
            "E3   241  436    0  333   706   104   65  148   490   17\n",
            "E4    10   13  333    0    85   809  104   37    25  212\n",
            "E5   125   34  706   85     0  1346  353  218    20  541\n",
            "E6   661  964  104  809  1346     0  333  500  1042  197\n",
            "E7    58  169   65  104   353   333    0   17   205   20\n",
            "E8    13   80  148   37   218   500   17    0   106   73\n",
            "E9    45    2  490   25    20  1042  205  106     0  353\n",
            "E10  146  305   17  212   541   197   20   73   353    0\n"
          ]
        }
      ],
      "source": [
        "etiquetas = np.array(['E1','E2','E3','E4','E5','E6','E7','E8','E9','E10'])\n",
        "parPd = etiquetas[par[0]]\n",
        "\n",
        "matrizE = pd.DataFrame(matrizDistancias, index=etiquetas, columns=etiquetas)\n",
        "print(matrizE)"
      ]
    },
    {
      "cell_type": "code",
      "execution_count": 1467,
      "id": "b43894c4-7b1e-49c3-90fb-86ec61059420",
      "metadata": {
        "id": "b43894c4-7b1e-49c3-90fb-86ec61059420",
        "outputId": "3d333e2e-fff5-49ea-87e4-277e5f625f02",
        "colab": {
          "base_uri": "https://localhost:8080/",
          "height": 383
        }
      },
      "outputs": [
        {
          "output_type": "execute_result",
          "data": {
            "text/plain": [
              "<pandas.io.formats.style.Styler at 0x7c915e8a98e0>"
            ],
            "text/html": [
              "<style type=\"text/css\">\n",
              "#T_3169f_row8_col1 {\n",
              "  background-color: yellow;\n",
              "  color: black;\n",
              "  font-weight: bold;\n",
              "}\n",
              "</style>\n",
              "<table id=\"T_3169f\" class=\"dataframe\">\n",
              "  <thead>\n",
              "    <tr>\n",
              "      <th class=\"blank level0\" >&nbsp;</th>\n",
              "      <th id=\"T_3169f_level0_col0\" class=\"col_heading level0 col0\" >E1</th>\n",
              "      <th id=\"T_3169f_level0_col1\" class=\"col_heading level0 col1\" >E2</th>\n",
              "      <th id=\"T_3169f_level0_col2\" class=\"col_heading level0 col2\" >E3</th>\n",
              "      <th id=\"T_3169f_level0_col3\" class=\"col_heading level0 col3\" >E4</th>\n",
              "      <th id=\"T_3169f_level0_col4\" class=\"col_heading level0 col4\" >E5</th>\n",
              "      <th id=\"T_3169f_level0_col5\" class=\"col_heading level0 col5\" >E6</th>\n",
              "      <th id=\"T_3169f_level0_col6\" class=\"col_heading level0 col6\" >E7</th>\n",
              "      <th id=\"T_3169f_level0_col7\" class=\"col_heading level0 col7\" >E8</th>\n",
              "      <th id=\"T_3169f_level0_col8\" class=\"col_heading level0 col8\" >E9</th>\n",
              "      <th id=\"T_3169f_level0_col9\" class=\"col_heading level0 col9\" >E10</th>\n",
              "    </tr>\n",
              "  </thead>\n",
              "  <tbody>\n",
              "    <tr>\n",
              "      <th id=\"T_3169f_level0_row0\" class=\"row_heading level0 row0\" >E1</th>\n",
              "      <td id=\"T_3169f_row0_col0\" class=\"data row0 col0\" >0</td>\n",
              "      <td id=\"T_3169f_row0_col1\" class=\"data row0 col1\" >29</td>\n",
              "      <td id=\"T_3169f_row0_col2\" class=\"data row0 col2\" >241</td>\n",
              "      <td id=\"T_3169f_row0_col3\" class=\"data row0 col3\" >10</td>\n",
              "      <td id=\"T_3169f_row0_col4\" class=\"data row0 col4\" >125</td>\n",
              "      <td id=\"T_3169f_row0_col5\" class=\"data row0 col5\" >661</td>\n",
              "      <td id=\"T_3169f_row0_col6\" class=\"data row0 col6\" >58</td>\n",
              "      <td id=\"T_3169f_row0_col7\" class=\"data row0 col7\" >13</td>\n",
              "      <td id=\"T_3169f_row0_col8\" class=\"data row0 col8\" >45</td>\n",
              "      <td id=\"T_3169f_row0_col9\" class=\"data row0 col9\" >146</td>\n",
              "    </tr>\n",
              "    <tr>\n",
              "      <th id=\"T_3169f_level0_row1\" class=\"row_heading level0 row1\" >E2</th>\n",
              "      <td id=\"T_3169f_row1_col0\" class=\"data row1 col0\" >29</td>\n",
              "      <td id=\"T_3169f_row1_col1\" class=\"data row1 col1\" >0</td>\n",
              "      <td id=\"T_3169f_row1_col2\" class=\"data row1 col2\" >436</td>\n",
              "      <td id=\"T_3169f_row1_col3\" class=\"data row1 col3\" >13</td>\n",
              "      <td id=\"T_3169f_row1_col4\" class=\"data row1 col4\" >34</td>\n",
              "      <td id=\"T_3169f_row1_col5\" class=\"data row1 col5\" >964</td>\n",
              "      <td id=\"T_3169f_row1_col6\" class=\"data row1 col6\" >169</td>\n",
              "      <td id=\"T_3169f_row1_col7\" class=\"data row1 col7\" >80</td>\n",
              "      <td id=\"T_3169f_row1_col8\" class=\"data row1 col8\" >2</td>\n",
              "      <td id=\"T_3169f_row1_col9\" class=\"data row1 col9\" >305</td>\n",
              "    </tr>\n",
              "    <tr>\n",
              "      <th id=\"T_3169f_level0_row2\" class=\"row_heading level0 row2\" >E3</th>\n",
              "      <td id=\"T_3169f_row2_col0\" class=\"data row2 col0\" >241</td>\n",
              "      <td id=\"T_3169f_row2_col1\" class=\"data row2 col1\" >436</td>\n",
              "      <td id=\"T_3169f_row2_col2\" class=\"data row2 col2\" >0</td>\n",
              "      <td id=\"T_3169f_row2_col3\" class=\"data row2 col3\" >333</td>\n",
              "      <td id=\"T_3169f_row2_col4\" class=\"data row2 col4\" >706</td>\n",
              "      <td id=\"T_3169f_row2_col5\" class=\"data row2 col5\" >104</td>\n",
              "      <td id=\"T_3169f_row2_col6\" class=\"data row2 col6\" >65</td>\n",
              "      <td id=\"T_3169f_row2_col7\" class=\"data row2 col7\" >148</td>\n",
              "      <td id=\"T_3169f_row2_col8\" class=\"data row2 col8\" >490</td>\n",
              "      <td id=\"T_3169f_row2_col9\" class=\"data row2 col9\" >17</td>\n",
              "    </tr>\n",
              "    <tr>\n",
              "      <th id=\"T_3169f_level0_row3\" class=\"row_heading level0 row3\" >E4</th>\n",
              "      <td id=\"T_3169f_row3_col0\" class=\"data row3 col0\" >10</td>\n",
              "      <td id=\"T_3169f_row3_col1\" class=\"data row3 col1\" >13</td>\n",
              "      <td id=\"T_3169f_row3_col2\" class=\"data row3 col2\" >333</td>\n",
              "      <td id=\"T_3169f_row3_col3\" class=\"data row3 col3\" >0</td>\n",
              "      <td id=\"T_3169f_row3_col4\" class=\"data row3 col4\" >85</td>\n",
              "      <td id=\"T_3169f_row3_col5\" class=\"data row3 col5\" >809</td>\n",
              "      <td id=\"T_3169f_row3_col6\" class=\"data row3 col6\" >104</td>\n",
              "      <td id=\"T_3169f_row3_col7\" class=\"data row3 col7\" >37</td>\n",
              "      <td id=\"T_3169f_row3_col8\" class=\"data row3 col8\" >25</td>\n",
              "      <td id=\"T_3169f_row3_col9\" class=\"data row3 col9\" >212</td>\n",
              "    </tr>\n",
              "    <tr>\n",
              "      <th id=\"T_3169f_level0_row4\" class=\"row_heading level0 row4\" >E5</th>\n",
              "      <td id=\"T_3169f_row4_col0\" class=\"data row4 col0\" >125</td>\n",
              "      <td id=\"T_3169f_row4_col1\" class=\"data row4 col1\" >34</td>\n",
              "      <td id=\"T_3169f_row4_col2\" class=\"data row4 col2\" >706</td>\n",
              "      <td id=\"T_3169f_row4_col3\" class=\"data row4 col3\" >85</td>\n",
              "      <td id=\"T_3169f_row4_col4\" class=\"data row4 col4\" >0</td>\n",
              "      <td id=\"T_3169f_row4_col5\" class=\"data row4 col5\" >1346</td>\n",
              "      <td id=\"T_3169f_row4_col6\" class=\"data row4 col6\" >353</td>\n",
              "      <td id=\"T_3169f_row4_col7\" class=\"data row4 col7\" >218</td>\n",
              "      <td id=\"T_3169f_row4_col8\" class=\"data row4 col8\" >20</td>\n",
              "      <td id=\"T_3169f_row4_col9\" class=\"data row4 col9\" >541</td>\n",
              "    </tr>\n",
              "    <tr>\n",
              "      <th id=\"T_3169f_level0_row5\" class=\"row_heading level0 row5\" >E6</th>\n",
              "      <td id=\"T_3169f_row5_col0\" class=\"data row5 col0\" >661</td>\n",
              "      <td id=\"T_3169f_row5_col1\" class=\"data row5 col1\" >964</td>\n",
              "      <td id=\"T_3169f_row5_col2\" class=\"data row5 col2\" >104</td>\n",
              "      <td id=\"T_3169f_row5_col3\" class=\"data row5 col3\" >809</td>\n",
              "      <td id=\"T_3169f_row5_col4\" class=\"data row5 col4\" >1346</td>\n",
              "      <td id=\"T_3169f_row5_col5\" class=\"data row5 col5\" >0</td>\n",
              "      <td id=\"T_3169f_row5_col6\" class=\"data row5 col6\" >333</td>\n",
              "      <td id=\"T_3169f_row5_col7\" class=\"data row5 col7\" >500</td>\n",
              "      <td id=\"T_3169f_row5_col8\" class=\"data row5 col8\" >1042</td>\n",
              "      <td id=\"T_3169f_row5_col9\" class=\"data row5 col9\" >197</td>\n",
              "    </tr>\n",
              "    <tr>\n",
              "      <th id=\"T_3169f_level0_row6\" class=\"row_heading level0 row6\" >E7</th>\n",
              "      <td id=\"T_3169f_row6_col0\" class=\"data row6 col0\" >58</td>\n",
              "      <td id=\"T_3169f_row6_col1\" class=\"data row6 col1\" >169</td>\n",
              "      <td id=\"T_3169f_row6_col2\" class=\"data row6 col2\" >65</td>\n",
              "      <td id=\"T_3169f_row6_col3\" class=\"data row6 col3\" >104</td>\n",
              "      <td id=\"T_3169f_row6_col4\" class=\"data row6 col4\" >353</td>\n",
              "      <td id=\"T_3169f_row6_col5\" class=\"data row6 col5\" >333</td>\n",
              "      <td id=\"T_3169f_row6_col6\" class=\"data row6 col6\" >0</td>\n",
              "      <td id=\"T_3169f_row6_col7\" class=\"data row6 col7\" >17</td>\n",
              "      <td id=\"T_3169f_row6_col8\" class=\"data row6 col8\" >205</td>\n",
              "      <td id=\"T_3169f_row6_col9\" class=\"data row6 col9\" >20</td>\n",
              "    </tr>\n",
              "    <tr>\n",
              "      <th id=\"T_3169f_level0_row7\" class=\"row_heading level0 row7\" >E8</th>\n",
              "      <td id=\"T_3169f_row7_col0\" class=\"data row7 col0\" >13</td>\n",
              "      <td id=\"T_3169f_row7_col1\" class=\"data row7 col1\" >80</td>\n",
              "      <td id=\"T_3169f_row7_col2\" class=\"data row7 col2\" >148</td>\n",
              "      <td id=\"T_3169f_row7_col3\" class=\"data row7 col3\" >37</td>\n",
              "      <td id=\"T_3169f_row7_col4\" class=\"data row7 col4\" >218</td>\n",
              "      <td id=\"T_3169f_row7_col5\" class=\"data row7 col5\" >500</td>\n",
              "      <td id=\"T_3169f_row7_col6\" class=\"data row7 col6\" >17</td>\n",
              "      <td id=\"T_3169f_row7_col7\" class=\"data row7 col7\" >0</td>\n",
              "      <td id=\"T_3169f_row7_col8\" class=\"data row7 col8\" >106</td>\n",
              "      <td id=\"T_3169f_row7_col9\" class=\"data row7 col9\" >73</td>\n",
              "    </tr>\n",
              "    <tr>\n",
              "      <th id=\"T_3169f_level0_row8\" class=\"row_heading level0 row8\" >E9</th>\n",
              "      <td id=\"T_3169f_row8_col0\" class=\"data row8 col0\" >45</td>\n",
              "      <td id=\"T_3169f_row8_col1\" class=\"data row8 col1\" >2</td>\n",
              "      <td id=\"T_3169f_row8_col2\" class=\"data row8 col2\" >490</td>\n",
              "      <td id=\"T_3169f_row8_col3\" class=\"data row8 col3\" >25</td>\n",
              "      <td id=\"T_3169f_row8_col4\" class=\"data row8 col4\" >20</td>\n",
              "      <td id=\"T_3169f_row8_col5\" class=\"data row8 col5\" >1042</td>\n",
              "      <td id=\"T_3169f_row8_col6\" class=\"data row8 col6\" >205</td>\n",
              "      <td id=\"T_3169f_row8_col7\" class=\"data row8 col7\" >106</td>\n",
              "      <td id=\"T_3169f_row8_col8\" class=\"data row8 col8\" >0</td>\n",
              "      <td id=\"T_3169f_row8_col9\" class=\"data row8 col9\" >353</td>\n",
              "    </tr>\n",
              "    <tr>\n",
              "      <th id=\"T_3169f_level0_row9\" class=\"row_heading level0 row9\" >E10</th>\n",
              "      <td id=\"T_3169f_row9_col0\" class=\"data row9 col0\" >146</td>\n",
              "      <td id=\"T_3169f_row9_col1\" class=\"data row9 col1\" >305</td>\n",
              "      <td id=\"T_3169f_row9_col2\" class=\"data row9 col2\" >17</td>\n",
              "      <td id=\"T_3169f_row9_col3\" class=\"data row9 col3\" >212</td>\n",
              "      <td id=\"T_3169f_row9_col4\" class=\"data row9 col4\" >541</td>\n",
              "      <td id=\"T_3169f_row9_col5\" class=\"data row9 col5\" >197</td>\n",
              "      <td id=\"T_3169f_row9_col6\" class=\"data row9 col6\" >20</td>\n",
              "      <td id=\"T_3169f_row9_col7\" class=\"data row9 col7\" >73</td>\n",
              "      <td id=\"T_3169f_row9_col8\" class=\"data row9 col8\" >353</td>\n",
              "      <td id=\"T_3169f_row9_col9\" class=\"data row9 col9\" >0</td>\n",
              "    </tr>\n",
              "  </tbody>\n",
              "</table>\n"
            ]
          },
          "metadata": {},
          "execution_count": 1467
        }
      ],
      "source": [
        "def resaltar_celda(x):\n",
        "    matrizE = pd.DataFrame('', index=x.index, columns=x.columns)\n",
        "    matrizE.iat[posicion[0][1], posicion[0][0]] = 'background-color: yellow; color: black; font-weight: bold;'\n",
        "    return matrizE\n",
        "\n",
        "def mostrar_matriz(x):\n",
        "    matrizE = pd.DataFrame('background-color: yellow; color: black; font-weight: bold;',\n",
        "                           index=x.index, columns=x.columns)\n",
        "    return matrizE\n",
        "\n",
        "\n",
        "# Aplicamos estilos\n",
        "matrizE.style.apply(resaltar_celda, axis=None)"
      ]
    },
    {
      "cell_type": "code",
      "execution_count": 1468,
      "id": "05437026-c7f0-4f59-8d55-a9fb3f930cae",
      "metadata": {
        "id": "05437026-c7f0-4f59-8d55-a9fb3f930cae",
        "outputId": "8c2959ec-2f95-4b0d-92f1-520889cfb89f",
        "colab": {
          "base_uri": "https://localhost:8080/"
        }
      },
      "outputs": [
        {
          "output_type": "stream",
          "name": "stdout",
          "text": [
            "['E1' 'E2E9' 'E3' 'E4' 'E5' 'E6' 'E7' 'E8' 'E10']\n"
          ]
        }
      ],
      "source": [
        "clusters = np.array(['E1','E2','E3','E4','E5','E6','E7','E8','E9','E10'], dtype=object)\n",
        "clusters[posicion[0][0]] = \"{}{}\".format(etiquetas[posicion[0][0]], etiquetas[posicion[0][1]])\n",
        "\n",
        "clusters = np.delete(clusters, posicion[0][1])\n",
        "print(clusters)"
      ]
    },
    {
      "cell_type": "code",
      "execution_count": 1469,
      "id": "d1d64d43-5ff9-481f-ae5c-9a2da8f380fa",
      "metadata": {
        "id": "d1d64d43-5ff9-481f-ae5c-9a2da8f380fa"
      },
      "outputs": [],
      "source": [
        "matrizFusion1 = matrizE.drop(index=etiquetas[posicion[0][0]])\n",
        "matrizFusion1 = matrizE.drop(columns=etiquetas[posicion[0][1]])"
      ]
    },
    {
      "cell_type": "code",
      "execution_count": 1470,
      "id": "4f0291bc-2902-4dd2-9bf3-e01856a7c984",
      "metadata": {
        "id": "4f0291bc-2902-4dd2-9bf3-e01856a7c984"
      },
      "outputs": [],
      "source": [
        "matrizFusion1 = pd.DataFrame(matrizE, index=clusters, columns=clusters)"
      ]
    },
    {
      "cell_type": "code",
      "execution_count": 1471,
      "id": "26765e89-26e5-4505-a217-e31e0e38739a",
      "metadata": {
        "id": "26765e89-26e5-4505-a217-e31e0e38739a",
        "outputId": "60b6f5b1-d34b-4f2c-c053-e074bdbfe1b3",
        "colab": {
          "base_uri": "https://localhost:8080/"
        }
      },
      "outputs": [
        {
          "output_type": "stream",
          "name": "stdout",
          "text": [
            "         E1  E2E9     E3     E4      E5      E6     E7     E8    E10\n",
            "E1      0.0   NaN  241.0   10.0   125.0   661.0   58.0   13.0  146.0\n",
            "E2E9    NaN   NaN    NaN    NaN     NaN     NaN    NaN    NaN    NaN\n",
            "E3    241.0   NaN    0.0  333.0   706.0   104.0   65.0  148.0   17.0\n",
            "E4     10.0   NaN  333.0    0.0    85.0   809.0  104.0   37.0  212.0\n",
            "E5    125.0   NaN  706.0   85.0     0.0  1346.0  353.0  218.0  541.0\n",
            "E6    661.0   NaN  104.0  809.0  1346.0     0.0  333.0  500.0  197.0\n",
            "E7     58.0   NaN   65.0  104.0   353.0   333.0    0.0   17.0   20.0\n",
            "E8     13.0   NaN  148.0   37.0   218.0   500.0   17.0    0.0   73.0\n",
            "E10   146.0   NaN   17.0  212.0   541.0   197.0   20.0   73.0    0.0\n"
          ]
        }
      ],
      "source": [
        "print(matrizFusion1)"
      ]
    },
    {
      "cell_type": "code",
      "execution_count": 1472,
      "id": "4c0340e9-b5e9-48ab-b269-4ba0efeb6e80",
      "metadata": {
        "id": "4c0340e9-b5e9-48ab-b269-4ba0efeb6e80",
        "outputId": "8adf12cc-fa21-4227-b078-7ce2dbd8d64c",
        "colab": {
          "base_uri": "https://localhost:8080/"
        }
      },
      "outputs": [
        {
          "output_type": "stream",
          "name": "stdout",
          "text": [
            "['E1' 'E2E9' 'E3' 'E4' 'E5' 'E6' 'E7' 'E8' 'E10']\n"
          ]
        }
      ],
      "source": [
        "print(clusters)"
      ]
    },
    {
      "cell_type": "code",
      "execution_count": 1473,
      "id": "53ea8855-180c-4efe-9e71-6ffed905b764",
      "metadata": {
        "id": "53ea8855-180c-4efe-9e71-6ffed905b764",
        "outputId": "b8950d48-bc31-4604-e899-ba3cc349b4e5",
        "colab": {
          "base_uri": "https://localhost:8080/"
        }
      },
      "outputs": [
        {
          "output_type": "stream",
          "name": "stdout",
          "text": [
            "[[  29   45]\n",
            " [   0    2]\n",
            " [ 436  490]\n",
            " [  13   25]\n",
            " [  34   20]\n",
            " [ 964 1042]\n",
            " [ 169  205]\n",
            " [  80  106]\n",
            " [   2    0]\n",
            " [ 305  353]]\n"
          ]
        }
      ],
      "source": [
        "compMin = matrizDistancias[:,posicion[0]]\n",
        "print(compMin)\n",
        "\n"
      ]
    },
    {
      "cell_type": "code",
      "execution_count": 1474,
      "id": "f6744b61-b7e2-4f8d-bdb5-f181febb9604",
      "metadata": {
        "id": "f6744b61-b7e2-4f8d-bdb5-f181febb9604"
      },
      "outputs": [],
      "source": [
        "mat_new = np.delete(compMin, posicion[0][1], axis=0)"
      ]
    },
    {
      "cell_type": "code",
      "execution_count": 1475,
      "id": "8eef35e6-8177-470d-a495-a583c0ad8607",
      "metadata": {
        "id": "8eef35e6-8177-470d-a495-a583c0ad8607",
        "outputId": "33eafc40-f522-472c-e201-17880efed098",
        "colab": {
          "base_uri": "https://localhost:8080/"
        }
      },
      "outputs": [
        {
          "output_type": "stream",
          "name": "stdout",
          "text": [
            "[[  29   45]\n",
            " [   0    2]\n",
            " [ 436  490]\n",
            " [  13   25]\n",
            " [  34   20]\n",
            " [ 964 1042]\n",
            " [ 169  205]\n",
            " [  80  106]\n",
            " [ 305  353]]\n"
          ]
        }
      ],
      "source": [
        "print(mat_new)"
      ]
    },
    {
      "cell_type": "code",
      "execution_count": 1476,
      "id": "1e839f8a-7b26-47c8-9a88-1e33a033a5c4",
      "metadata": {
        "id": "1e839f8a-7b26-47c8-9a88-1e33a033a5c4",
        "outputId": "12e428b9-4a16-497c-b421-737e40b34e6b",
        "colab": {
          "base_uri": "https://localhost:8080/"
        }
      },
      "outputs": [
        {
          "output_type": "stream",
          "name": "stdout",
          "text": [
            "[ 29   0 436  13  20 964 169  80 305]\n"
          ]
        }
      ],
      "source": [
        "disClus = np.min(mat_new, axis=1)\n",
        "print(disClus)"
      ]
    },
    {
      "cell_type": "code",
      "execution_count": 1477,
      "id": "38620aef-ddad-4eb0-8d4c-4601bccc61b4",
      "metadata": {
        "scrolled": true,
        "id": "38620aef-ddad-4eb0-8d4c-4601bccc61b4",
        "outputId": "27950ddf-29b5-40ff-aacc-8a74056280d1",
        "colab": {
          "base_uri": "https://localhost:8080/"
        }
      },
      "outputs": [
        {
          "output_type": "stream",
          "name": "stdout",
          "text": [
            "         E1  E2E9     E3     E4      E5      E6     E7     E8    E10\n",
            "E1      0.0   NaN  241.0   10.0   125.0   661.0   58.0   13.0  146.0\n",
            "E2E9    NaN   NaN    NaN    NaN     NaN     NaN    NaN    NaN    NaN\n",
            "E3    241.0   NaN    0.0  333.0   706.0   104.0   65.0  148.0   17.0\n",
            "E4     10.0   NaN  333.0    0.0    85.0   809.0  104.0   37.0  212.0\n",
            "E5    125.0   NaN  706.0   85.0     0.0  1346.0  353.0  218.0  541.0\n",
            "E6    661.0   NaN  104.0  809.0  1346.0     0.0  333.0  500.0  197.0\n",
            "E7     58.0   NaN   65.0  104.0   353.0   333.0    0.0   17.0   20.0\n",
            "E8     13.0   NaN  148.0   37.0   218.0   500.0   17.0    0.0   73.0\n",
            "E10   146.0   NaN   17.0  212.0   541.0   197.0   20.0   73.0    0.0\n"
          ]
        }
      ],
      "source": [
        "\n",
        "print(matrizFusion1)"
      ]
    },
    {
      "cell_type": "code",
      "execution_count": 1478,
      "id": "f7f842a3-9e84-4a3e-98d4-2cfb65905c43",
      "metadata": {
        "id": "f7f842a3-9e84-4a3e-98d4-2cfb65905c43"
      },
      "outputs": [],
      "source": [
        "matrizFusion1.iloc[:, posicion[0][0]] = disClus\n",
        "matrizFusion1.iloc[posicion[0][0], :] = disClus"
      ]
    },
    {
      "cell_type": "code",
      "execution_count": 1479,
      "id": "117c8e93-97de-438f-8e00-bdb86c7b3a83",
      "metadata": {
        "id": "117c8e93-97de-438f-8e00-bdb86c7b3a83",
        "outputId": "3bd0c06b-4ecc-457b-d0db-e9128015d4fe",
        "colab": {
          "base_uri": "https://localhost:8080/"
        }
      },
      "outputs": [
        {
          "output_type": "stream",
          "name": "stdout",
          "text": [
            "         E1   E2E9     E3     E4      E5      E6     E7     E8    E10\n",
            "E1      0.0   29.0  241.0   10.0   125.0   661.0   58.0   13.0  146.0\n",
            "E2E9   29.0    0.0  436.0   13.0    20.0   964.0  169.0   80.0  305.0\n",
            "E3    241.0  436.0    0.0  333.0   706.0   104.0   65.0  148.0   17.0\n",
            "E4     10.0   13.0  333.0    0.0    85.0   809.0  104.0   37.0  212.0\n",
            "E5    125.0   20.0  706.0   85.0     0.0  1346.0  353.0  218.0  541.0\n",
            "E6    661.0  964.0  104.0  809.0  1346.0     0.0  333.0  500.0  197.0\n",
            "E7     58.0  169.0   65.0  104.0   353.0   333.0    0.0   17.0   20.0\n",
            "E8     13.0   80.0  148.0   37.0   218.0   500.0   17.0    0.0   73.0\n",
            "E10   146.0  305.0   17.0  212.0   541.0   197.0   20.0   73.0    0.0\n"
          ]
        }
      ],
      "source": [
        "print(matrizFusion1)"
      ]
    },
    {
      "cell_type": "code",
      "source": [],
      "metadata": {
        "id": "Rgp5ufwT0sdD"
      },
      "id": "Rgp5ufwT0sdD",
      "execution_count": 1479,
      "outputs": []
    },
    {
      "cell_type": "code",
      "execution_count": 1480,
      "id": "ca28e3a0-9bf7-4fd3-95e1-d49a94009b4b",
      "metadata": {
        "id": "ca28e3a0-9bf7-4fd3-95e1-d49a94009b4b"
      },
      "outputs": [],
      "source": [
        "matrizDistancias1 = matrizDistancias.copy()\n",
        "mat_new = np.delete(matrizDistancias1, posicion[0][0], axis=0)   # borrar fila\n",
        "mat_new = np.delete(mat_new, posicion[0][1], axis=1)"
      ]
    },
    {
      "cell_type": "code",
      "execution_count": 1481,
      "id": "eb23b02d-5341-44c3-8ded-6aa09d8f49fd",
      "metadata": {
        "id": "eb23b02d-5341-44c3-8ded-6aa09d8f49fd"
      },
      "outputs": [],
      "source": [
        "min1 = matrizFusion1.values[matrizFusion1!= 0].min()"
      ]
    },
    {
      "cell_type": "code",
      "execution_count": 1482,
      "id": "2a954c47-df98-4e7d-9dc8-686661a9baf0",
      "metadata": {
        "id": "2a954c47-df98-4e7d-9dc8-686661a9baf0",
        "outputId": "0c273718-2157-4551-ea60-2b808c13f98f",
        "colab": {
          "base_uri": "https://localhost:8080/"
        }
      },
      "outputs": [
        {
          "output_type": "stream",
          "name": "stdout",
          "text": [
            "10.0\n"
          ]
        }
      ],
      "source": [
        "print(min1)\n",
        "matrizFusion1Np = matrizFusion1.to_numpy()"
      ]
    },
    {
      "cell_type": "code",
      "execution_count": 1483,
      "id": "27760f96-d568-45cc-8ed2-4f59c966def9",
      "metadata": {
        "id": "27760f96-d568-45cc-8ed2-4f59c966def9",
        "outputId": "a5f82174-8682-4942-92da-d496fb123573",
        "colab": {
          "base_uri": "https://localhost:8080/"
        }
      },
      "outputs": [
        {
          "output_type": "stream",
          "name": "stdout",
          "text": [
            "(array([0, 3]), array([3, 0]))\n"
          ]
        }
      ],
      "source": [
        "posicion = np.where(matrizFusion1Np  == min1)\n",
        "print(posicion)"
      ]
    },
    {
      "cell_type": "code",
      "execution_count": 1484,
      "id": "ab8f20ca-3985-4020-9294-cf79d6aef7f9",
      "metadata": {
        "id": "ab8f20ca-3985-4020-9294-cf79d6aef7f9",
        "outputId": "981c1d83-bb39-4f7e-cfe7-0bdd969242a6",
        "colab": {
          "base_uri": "https://localhost:8080/",
          "height": 369
        }
      },
      "outputs": [
        {
          "output_type": "stream",
          "name": "stdout",
          "text": [
            "[0 3]\n"
          ]
        },
        {
          "output_type": "execute_result",
          "data": {
            "text/plain": [
              "<pandas.io.formats.style.Styler at 0x7c915e8934a0>"
            ],
            "text/html": [
              "<style type=\"text/css\">\n",
              "#T_75101_row3_col0 {\n",
              "  background-color: yellow;\n",
              "  color: black;\n",
              "  font-weight: bold;\n",
              "}\n",
              "</style>\n",
              "<table id=\"T_75101\" class=\"dataframe\">\n",
              "  <thead>\n",
              "    <tr>\n",
              "      <th class=\"blank level0\" >&nbsp;</th>\n",
              "      <th id=\"T_75101_level0_col0\" class=\"col_heading level0 col0\" >E1</th>\n",
              "      <th id=\"T_75101_level0_col1\" class=\"col_heading level0 col1\" >E2E9</th>\n",
              "      <th id=\"T_75101_level0_col2\" class=\"col_heading level0 col2\" >E3</th>\n",
              "      <th id=\"T_75101_level0_col3\" class=\"col_heading level0 col3\" >E4</th>\n",
              "      <th id=\"T_75101_level0_col4\" class=\"col_heading level0 col4\" >E5</th>\n",
              "      <th id=\"T_75101_level0_col5\" class=\"col_heading level0 col5\" >E6</th>\n",
              "      <th id=\"T_75101_level0_col6\" class=\"col_heading level0 col6\" >E7</th>\n",
              "      <th id=\"T_75101_level0_col7\" class=\"col_heading level0 col7\" >E8</th>\n",
              "      <th id=\"T_75101_level0_col8\" class=\"col_heading level0 col8\" >E10</th>\n",
              "    </tr>\n",
              "  </thead>\n",
              "  <tbody>\n",
              "    <tr>\n",
              "      <th id=\"T_75101_level0_row0\" class=\"row_heading level0 row0\" >E1</th>\n",
              "      <td id=\"T_75101_row0_col0\" class=\"data row0 col0\" >0.000000</td>\n",
              "      <td id=\"T_75101_row0_col1\" class=\"data row0 col1\" >29.000000</td>\n",
              "      <td id=\"T_75101_row0_col2\" class=\"data row0 col2\" >241.000000</td>\n",
              "      <td id=\"T_75101_row0_col3\" class=\"data row0 col3\" >10.000000</td>\n",
              "      <td id=\"T_75101_row0_col4\" class=\"data row0 col4\" >125.000000</td>\n",
              "      <td id=\"T_75101_row0_col5\" class=\"data row0 col5\" >661.000000</td>\n",
              "      <td id=\"T_75101_row0_col6\" class=\"data row0 col6\" >58.000000</td>\n",
              "      <td id=\"T_75101_row0_col7\" class=\"data row0 col7\" >13.000000</td>\n",
              "      <td id=\"T_75101_row0_col8\" class=\"data row0 col8\" >146.000000</td>\n",
              "    </tr>\n",
              "    <tr>\n",
              "      <th id=\"T_75101_level0_row1\" class=\"row_heading level0 row1\" >E2E9</th>\n",
              "      <td id=\"T_75101_row1_col0\" class=\"data row1 col0\" >29.000000</td>\n",
              "      <td id=\"T_75101_row1_col1\" class=\"data row1 col1\" >0.000000</td>\n",
              "      <td id=\"T_75101_row1_col2\" class=\"data row1 col2\" >436.000000</td>\n",
              "      <td id=\"T_75101_row1_col3\" class=\"data row1 col3\" >13.000000</td>\n",
              "      <td id=\"T_75101_row1_col4\" class=\"data row1 col4\" >20.000000</td>\n",
              "      <td id=\"T_75101_row1_col5\" class=\"data row1 col5\" >964.000000</td>\n",
              "      <td id=\"T_75101_row1_col6\" class=\"data row1 col6\" >169.000000</td>\n",
              "      <td id=\"T_75101_row1_col7\" class=\"data row1 col7\" >80.000000</td>\n",
              "      <td id=\"T_75101_row1_col8\" class=\"data row1 col8\" >305.000000</td>\n",
              "    </tr>\n",
              "    <tr>\n",
              "      <th id=\"T_75101_level0_row2\" class=\"row_heading level0 row2\" >E3</th>\n",
              "      <td id=\"T_75101_row2_col0\" class=\"data row2 col0\" >241.000000</td>\n",
              "      <td id=\"T_75101_row2_col1\" class=\"data row2 col1\" >436.000000</td>\n",
              "      <td id=\"T_75101_row2_col2\" class=\"data row2 col2\" >0.000000</td>\n",
              "      <td id=\"T_75101_row2_col3\" class=\"data row2 col3\" >333.000000</td>\n",
              "      <td id=\"T_75101_row2_col4\" class=\"data row2 col4\" >706.000000</td>\n",
              "      <td id=\"T_75101_row2_col5\" class=\"data row2 col5\" >104.000000</td>\n",
              "      <td id=\"T_75101_row2_col6\" class=\"data row2 col6\" >65.000000</td>\n",
              "      <td id=\"T_75101_row2_col7\" class=\"data row2 col7\" >148.000000</td>\n",
              "      <td id=\"T_75101_row2_col8\" class=\"data row2 col8\" >17.000000</td>\n",
              "    </tr>\n",
              "    <tr>\n",
              "      <th id=\"T_75101_level0_row3\" class=\"row_heading level0 row3\" >E4</th>\n",
              "      <td id=\"T_75101_row3_col0\" class=\"data row3 col0\" >10.000000</td>\n",
              "      <td id=\"T_75101_row3_col1\" class=\"data row3 col1\" >13.000000</td>\n",
              "      <td id=\"T_75101_row3_col2\" class=\"data row3 col2\" >333.000000</td>\n",
              "      <td id=\"T_75101_row3_col3\" class=\"data row3 col3\" >0.000000</td>\n",
              "      <td id=\"T_75101_row3_col4\" class=\"data row3 col4\" >85.000000</td>\n",
              "      <td id=\"T_75101_row3_col5\" class=\"data row3 col5\" >809.000000</td>\n",
              "      <td id=\"T_75101_row3_col6\" class=\"data row3 col6\" >104.000000</td>\n",
              "      <td id=\"T_75101_row3_col7\" class=\"data row3 col7\" >37.000000</td>\n",
              "      <td id=\"T_75101_row3_col8\" class=\"data row3 col8\" >212.000000</td>\n",
              "    </tr>\n",
              "    <tr>\n",
              "      <th id=\"T_75101_level0_row4\" class=\"row_heading level0 row4\" >E5</th>\n",
              "      <td id=\"T_75101_row4_col0\" class=\"data row4 col0\" >125.000000</td>\n",
              "      <td id=\"T_75101_row4_col1\" class=\"data row4 col1\" >20.000000</td>\n",
              "      <td id=\"T_75101_row4_col2\" class=\"data row4 col2\" >706.000000</td>\n",
              "      <td id=\"T_75101_row4_col3\" class=\"data row4 col3\" >85.000000</td>\n",
              "      <td id=\"T_75101_row4_col4\" class=\"data row4 col4\" >0.000000</td>\n",
              "      <td id=\"T_75101_row4_col5\" class=\"data row4 col5\" >1346.000000</td>\n",
              "      <td id=\"T_75101_row4_col6\" class=\"data row4 col6\" >353.000000</td>\n",
              "      <td id=\"T_75101_row4_col7\" class=\"data row4 col7\" >218.000000</td>\n",
              "      <td id=\"T_75101_row4_col8\" class=\"data row4 col8\" >541.000000</td>\n",
              "    </tr>\n",
              "    <tr>\n",
              "      <th id=\"T_75101_level0_row5\" class=\"row_heading level0 row5\" >E6</th>\n",
              "      <td id=\"T_75101_row5_col0\" class=\"data row5 col0\" >661.000000</td>\n",
              "      <td id=\"T_75101_row5_col1\" class=\"data row5 col1\" >964.000000</td>\n",
              "      <td id=\"T_75101_row5_col2\" class=\"data row5 col2\" >104.000000</td>\n",
              "      <td id=\"T_75101_row5_col3\" class=\"data row5 col3\" >809.000000</td>\n",
              "      <td id=\"T_75101_row5_col4\" class=\"data row5 col4\" >1346.000000</td>\n",
              "      <td id=\"T_75101_row5_col5\" class=\"data row5 col5\" >0.000000</td>\n",
              "      <td id=\"T_75101_row5_col6\" class=\"data row5 col6\" >333.000000</td>\n",
              "      <td id=\"T_75101_row5_col7\" class=\"data row5 col7\" >500.000000</td>\n",
              "      <td id=\"T_75101_row5_col8\" class=\"data row5 col8\" >197.000000</td>\n",
              "    </tr>\n",
              "    <tr>\n",
              "      <th id=\"T_75101_level0_row6\" class=\"row_heading level0 row6\" >E7</th>\n",
              "      <td id=\"T_75101_row6_col0\" class=\"data row6 col0\" >58.000000</td>\n",
              "      <td id=\"T_75101_row6_col1\" class=\"data row6 col1\" >169.000000</td>\n",
              "      <td id=\"T_75101_row6_col2\" class=\"data row6 col2\" >65.000000</td>\n",
              "      <td id=\"T_75101_row6_col3\" class=\"data row6 col3\" >104.000000</td>\n",
              "      <td id=\"T_75101_row6_col4\" class=\"data row6 col4\" >353.000000</td>\n",
              "      <td id=\"T_75101_row6_col5\" class=\"data row6 col5\" >333.000000</td>\n",
              "      <td id=\"T_75101_row6_col6\" class=\"data row6 col6\" >0.000000</td>\n",
              "      <td id=\"T_75101_row6_col7\" class=\"data row6 col7\" >17.000000</td>\n",
              "      <td id=\"T_75101_row6_col8\" class=\"data row6 col8\" >20.000000</td>\n",
              "    </tr>\n",
              "    <tr>\n",
              "      <th id=\"T_75101_level0_row7\" class=\"row_heading level0 row7\" >E8</th>\n",
              "      <td id=\"T_75101_row7_col0\" class=\"data row7 col0\" >13.000000</td>\n",
              "      <td id=\"T_75101_row7_col1\" class=\"data row7 col1\" >80.000000</td>\n",
              "      <td id=\"T_75101_row7_col2\" class=\"data row7 col2\" >148.000000</td>\n",
              "      <td id=\"T_75101_row7_col3\" class=\"data row7 col3\" >37.000000</td>\n",
              "      <td id=\"T_75101_row7_col4\" class=\"data row7 col4\" >218.000000</td>\n",
              "      <td id=\"T_75101_row7_col5\" class=\"data row7 col5\" >500.000000</td>\n",
              "      <td id=\"T_75101_row7_col6\" class=\"data row7 col6\" >17.000000</td>\n",
              "      <td id=\"T_75101_row7_col7\" class=\"data row7 col7\" >0.000000</td>\n",
              "      <td id=\"T_75101_row7_col8\" class=\"data row7 col8\" >73.000000</td>\n",
              "    </tr>\n",
              "    <tr>\n",
              "      <th id=\"T_75101_level0_row8\" class=\"row_heading level0 row8\" >E10</th>\n",
              "      <td id=\"T_75101_row8_col0\" class=\"data row8 col0\" >146.000000</td>\n",
              "      <td id=\"T_75101_row8_col1\" class=\"data row8 col1\" >305.000000</td>\n",
              "      <td id=\"T_75101_row8_col2\" class=\"data row8 col2\" >17.000000</td>\n",
              "      <td id=\"T_75101_row8_col3\" class=\"data row8 col3\" >212.000000</td>\n",
              "      <td id=\"T_75101_row8_col4\" class=\"data row8 col4\" >541.000000</td>\n",
              "      <td id=\"T_75101_row8_col5\" class=\"data row8 col5\" >197.000000</td>\n",
              "      <td id=\"T_75101_row8_col6\" class=\"data row8 col6\" >20.000000</td>\n",
              "      <td id=\"T_75101_row8_col7\" class=\"data row8 col7\" >73.000000</td>\n",
              "      <td id=\"T_75101_row8_col8\" class=\"data row8 col8\" >0.000000</td>\n",
              "    </tr>\n",
              "  </tbody>\n",
              "</table>\n"
            ]
          },
          "metadata": {},
          "execution_count": 1484
        }
      ],
      "source": [
        "\n",
        "matrizE= matrizFusion1\n",
        "print(posicion[0])\n",
        "matrizE.astype(int)\n",
        "def resaltar_celda(x):\n",
        "    matrizE = pd.DataFrame('', index=x.index, columns=x.columns)\n",
        "    matrizE.iat[posicion[0][1], posicion[0][0] ] = 'background-color: yellow; color: black; font-weight: bold;'\n",
        "    return matrizE\n",
        "\n",
        "matrizE.style.apply(resaltar_celda, axis=None)"
      ]
    },
    {
      "cell_type": "code",
      "execution_count": 1485,
      "id": "c3886449-3d05-4f01-87dc-e3dfc13b525f",
      "metadata": {
        "id": "c3886449-3d05-4f01-87dc-e3dfc13b525f",
        "outputId": "7bdb4275-4d80-4d05-efcf-fe8a4df88231",
        "colab": {
          "base_uri": "https://localhost:8080/"
        }
      },
      "outputs": [
        {
          "output_type": "stream",
          "name": "stdout",
          "text": [
            "       E1E4   E2E9     E3     E4      E5      E6     E7     E8    E10\n",
            "E1E4    0.0   29.0  241.0   10.0   125.0   661.0   58.0   13.0  146.0\n",
            "E2E9   29.0    0.0  436.0   13.0    20.0   964.0  169.0   80.0  305.0\n",
            "E3    241.0  436.0    0.0  333.0   706.0   104.0   65.0  148.0   17.0\n",
            "E4     10.0   13.0  333.0    0.0    85.0   809.0  104.0   37.0  212.0\n",
            "E5    125.0   20.0  706.0   85.0     0.0  1346.0  353.0  218.0  541.0\n",
            "E6    661.0  964.0  104.0  809.0  1346.0     0.0  333.0  500.0  197.0\n",
            "E7     58.0  169.0   65.0  104.0   353.0   333.0    0.0   17.0   20.0\n",
            "E8     13.0   80.0  148.0   37.0   218.0   500.0   17.0    0.0   73.0\n",
            "E10   146.0  305.0   17.0  212.0   541.0   197.0   20.0   73.0    0.0\n"
          ]
        }
      ],
      "source": [
        "clusters[posicion[0][0]] = \"{}{}\".format(etiquetas[posicion[0][0]], etiquetas[posicion[0][1]])\n",
        "\n",
        "clusters = np.delete(clusters, posicion[0][1])\n",
        "\n",
        "\n",
        "print(matrizFusion1)"
      ]
    },
    {
      "cell_type": "code",
      "execution_count": 1486,
      "id": "81a1a0cd-7ccd-4e4b-8033-406ad6ab4e70",
      "metadata": {
        "id": "81a1a0cd-7ccd-4e4b-8033-406ad6ab4e70",
        "outputId": "9d6627fc-25e2-49a4-d4ed-3463f2785aff",
        "colab": {
          "base_uri": "https://localhost:8080/"
        }
      },
      "outputs": [
        {
          "output_type": "stream",
          "name": "stdout",
          "text": [
            "[[  0  10]\n",
            " [ 29  13]\n",
            " [241 333]\n",
            " [ 10   0]\n",
            " [125  85]\n",
            " [661 809]\n",
            " [ 58 104]\n",
            " [ 13  37]\n",
            " [ 45  25]\n",
            " [146 212]]\n"
          ]
        }
      ],
      "source": [
        "compMin = matrizDistancias[:,posicion[0]]\n",
        "print(compMin)"
      ]
    },
    {
      "cell_type": "code",
      "execution_count": 1487,
      "id": "86284c40-17e7-4464-a09e-0ed3faafe643",
      "metadata": {
        "id": "86284c40-17e7-4464-a09e-0ed3faafe643"
      },
      "outputs": [],
      "source": [
        "mat_new = np.delete(compMin, posicion[0][1], axis=0)"
      ]
    },
    {
      "cell_type": "code",
      "execution_count": 1488,
      "id": "6a9ef09f-ce1a-41e2-93b8-f5a451868eea",
      "metadata": {
        "id": "6a9ef09f-ce1a-41e2-93b8-f5a451868eea",
        "outputId": "ce0ad6d5-f715-498a-8f62-e9ff93cdba62",
        "colab": {
          "base_uri": "https://localhost:8080/"
        }
      },
      "outputs": [
        {
          "output_type": "stream",
          "name": "stdout",
          "text": [
            "[[  0  10]\n",
            " [ 29  13]\n",
            " [241 333]\n",
            " [125  85]\n",
            " [661 809]\n",
            " [ 58 104]\n",
            " [ 13  37]\n",
            " [ 45  25]\n",
            " [146 212]]\n"
          ]
        }
      ],
      "source": [
        "print(mat_new)"
      ]
    },
    {
      "cell_type": "code",
      "execution_count": 1489,
      "id": "13e3aeed-a5c3-44e6-808d-a6f766348c2c",
      "metadata": {
        "id": "13e3aeed-a5c3-44e6-808d-a6f766348c2c",
        "outputId": "473afedc-f0f7-4c59-b864-6a7a2432e680",
        "colab": {
          "base_uri": "https://localhost:8080/"
        }
      },
      "outputs": [
        {
          "output_type": "stream",
          "name": "stdout",
          "text": [
            "[  0  13 241  85 661  58  13  25 146]\n"
          ]
        }
      ],
      "source": [
        "disClus = np.min(mat_new, axis=1)\n",
        "print(disClus)"
      ]
    },
    {
      "cell_type": "code",
      "execution_count": 1490,
      "id": "660cacc2-9fb0-49b8-b884-e2014e437788",
      "metadata": {
        "id": "660cacc2-9fb0-49b8-b884-e2014e437788"
      },
      "outputs": [],
      "source": [
        "matrizFusion1.iloc[:, posicion[0][0]] = disClus\n",
        "matrizFusion1.iloc[posicion[0][0], :] = disClus"
      ]
    },
    {
      "cell_type": "code",
      "execution_count": 1491,
      "id": "c2a4c6ae-5f8b-45e8-8973-41d2bb205897",
      "metadata": {
        "id": "c2a4c6ae-5f8b-45e8-8973-41d2bb205897",
        "outputId": "5ceb2ee6-0c16-47a5-81a6-ef6f31db94f7",
        "colab": {
          "base_uri": "https://localhost:8080/"
        }
      },
      "outputs": [
        {
          "output_type": "stream",
          "name": "stdout",
          "text": [
            "       E1E4   E2E9     E3     E4      E5      E6     E7     E8    E10\n",
            "E1E4    0.0   13.0  241.0   85.0   661.0    58.0   13.0   25.0  146.0\n",
            "E2E9   13.0    0.0  436.0   13.0    20.0   964.0  169.0   80.0  305.0\n",
            "E3    241.0  436.0    0.0  333.0   706.0   104.0   65.0  148.0   17.0\n",
            "E4     85.0   13.0  333.0    0.0    85.0   809.0  104.0   37.0  212.0\n",
            "E5    661.0   20.0  706.0   85.0     0.0  1346.0  353.0  218.0  541.0\n",
            "E6     58.0  964.0  104.0  809.0  1346.0     0.0  333.0  500.0  197.0\n",
            "E7     13.0  169.0   65.0  104.0   353.0   333.0    0.0   17.0   20.0\n",
            "E8     25.0   80.0  148.0   37.0   218.0   500.0   17.0    0.0   73.0\n",
            "E10   146.0  305.0   17.0  212.0   541.0   197.0   20.0   73.0    0.0\n"
          ]
        }
      ],
      "source": [
        "print(matrizFusion1)"
      ]
    },
    {
      "cell_type": "code",
      "source": [
        "min1 = matrizFusion1.values[matrizFusion1 != 0].min()\n",
        "print(min1)"
      ],
      "metadata": {
        "id": "3H5z66LayiPG",
        "outputId": "839eaa69-000d-4c62-bb38-c428f0d87aa4",
        "colab": {
          "base_uri": "https://localhost:8080/"
        }
      },
      "id": "3H5z66LayiPG",
      "execution_count": 1492,
      "outputs": [
        {
          "output_type": "stream",
          "name": "stdout",
          "text": [
            "13.0\n"
          ]
        }
      ]
    },
    {
      "cell_type": "code",
      "source": [
        "posicion= np.argwhere(matrizFusion1 == min1)[0]\n",
        "print(posicion)"
      ],
      "metadata": {
        "id": "jW2iEEet6E5B",
        "outputId": "3f192a90-396a-4bfb-96a5-c01401f8d257",
        "colab": {
          "base_uri": "https://localhost:8080/"
        }
      },
      "id": "jW2iEEet6E5B",
      "execution_count": 1493,
      "outputs": [
        {
          "output_type": "stream",
          "name": "stdout",
          "text": [
            "[0 1]\n"
          ]
        }
      ]
    },
    {
      "cell_type": "code",
      "source": [
        "matrizE = matrizFusion1.copy()\n",
        "print(matrizE)"
      ],
      "metadata": {
        "id": "Rj0KsfCy61JZ",
        "outputId": "8d545844-f386-47d6-a142-8898a24c9b16",
        "colab": {
          "base_uri": "https://localhost:8080/"
        }
      },
      "id": "Rj0KsfCy61JZ",
      "execution_count": 1494,
      "outputs": [
        {
          "output_type": "stream",
          "name": "stdout",
          "text": [
            "       E1E4   E2E9     E3     E4      E5      E6     E7     E8    E10\n",
            "E1E4    0.0   13.0  241.0   85.0   661.0    58.0   13.0   25.0  146.0\n",
            "E2E9   13.0    0.0  436.0   13.0    20.0   964.0  169.0   80.0  305.0\n",
            "E3    241.0  436.0    0.0  333.0   706.0   104.0   65.0  148.0   17.0\n",
            "E4     85.0   13.0  333.0    0.0    85.0   809.0  104.0   37.0  212.0\n",
            "E5    661.0   20.0  706.0   85.0     0.0  1346.0  353.0  218.0  541.0\n",
            "E6     58.0  964.0  104.0  809.0  1346.0     0.0  333.0  500.0  197.0\n",
            "E7     13.0  169.0   65.0  104.0   353.0   333.0    0.0   17.0   20.0\n",
            "E8     25.0   80.0  148.0   37.0   218.0   500.0   17.0    0.0   73.0\n",
            "E10   146.0  305.0   17.0  212.0   541.0   197.0   20.0   73.0    0.0\n"
          ]
        }
      ]
    },
    {
      "cell_type": "code",
      "source": [
        "\n",
        "def resaltar_celda(x):\n",
        "    matrizE = pd.DataFrame('', index=x.index, columns=x.columns)\n",
        "    matrizE.iat[posicion[0][1], posicion[0][0] ] = 'background-color: yellow; color: black; font-weight: bold;'\n",
        "    return matrizE\n",
        "\n",
        "matrizE.style.apply(resaltar_celda, axis=None)"
      ],
      "metadata": {
        "id": "-CeDBYqo7F8G",
        "outputId": "60e4bb39-15b7-4212-c575-c86a263b8b17",
        "colab": {
          "base_uri": "https://localhost:8080/",
          "height": 668
        }
      },
      "id": "-CeDBYqo7F8G",
      "execution_count": 1498,
      "outputs": [
        {
          "output_type": "error",
          "ename": "IndexError",
          "evalue": "invalid index to scalar variable.",
          "traceback": [
            "\u001b[0;31m---------------------------------------------------------------------------\u001b[0m",
            "\u001b[0;31mIndexError\u001b[0m                                Traceback (most recent call last)",
            "\u001b[0;32m/usr/local/lib/python3.12/dist-packages/IPython/core/formatters.py\u001b[0m in \u001b[0;36m__call__\u001b[0;34m(self, obj)\u001b[0m\n\u001b[1;32m    339\u001b[0m                 \u001b[0;32mpass\u001b[0m\u001b[0;34m\u001b[0m\u001b[0;34m\u001b[0m\u001b[0m\n\u001b[1;32m    340\u001b[0m             \u001b[0;32melse\u001b[0m\u001b[0;34m:\u001b[0m\u001b[0;34m\u001b[0m\u001b[0;34m\u001b[0m\u001b[0m\n\u001b[0;32m--> 341\u001b[0;31m                 \u001b[0;32mreturn\u001b[0m \u001b[0mprinter\u001b[0m\u001b[0;34m(\u001b[0m\u001b[0mobj\u001b[0m\u001b[0;34m)\u001b[0m\u001b[0;34m\u001b[0m\u001b[0;34m\u001b[0m\u001b[0m\n\u001b[0m\u001b[1;32m    342\u001b[0m             \u001b[0;31m# Finally look for special method names\u001b[0m\u001b[0;34m\u001b[0m\u001b[0;34m\u001b[0m\u001b[0m\n\u001b[1;32m    343\u001b[0m             \u001b[0mmethod\u001b[0m \u001b[0;34m=\u001b[0m \u001b[0mget_real_method\u001b[0m\u001b[0;34m(\u001b[0m\u001b[0mobj\u001b[0m\u001b[0;34m,\u001b[0m \u001b[0mself\u001b[0m\u001b[0;34m.\u001b[0m\u001b[0mprint_method\u001b[0m\u001b[0;34m)\u001b[0m\u001b[0;34m\u001b[0m\u001b[0;34m\u001b[0m\u001b[0m\n",
            "\u001b[0;32m/usr/local/lib/python3.12/dist-packages/google/colab/_reprs.py\u001b[0m in \u001b[0;36mnew_formatter\u001b[0;34m(dataframe)\u001b[0m\n\u001b[1;32m     90\u001b[0m \u001b[0;34m\u001b[0m\u001b[0m\n\u001b[1;32m     91\u001b[0m   \u001b[0;32mdef\u001b[0m \u001b[0mnew_formatter\u001b[0m\u001b[0;34m(\u001b[0m\u001b[0mdataframe\u001b[0m\u001b[0;34m)\u001b[0m\u001b[0;34m:\u001b[0m\u001b[0;34m\u001b[0m\u001b[0;34m\u001b[0m\u001b[0m\n\u001b[0;32m---> 92\u001b[0;31m     \u001b[0;32mreturn\u001b[0m \u001b[0mdataframe\u001b[0m\u001b[0;34m.\u001b[0m\u001b[0mset_table_attributes\u001b[0m\u001b[0;34m(\u001b[0m\u001b[0;34m'class=\"dataframe\"'\u001b[0m\u001b[0;34m)\u001b[0m\u001b[0;34m.\u001b[0m\u001b[0m_repr_html_\u001b[0m\u001b[0;34m(\u001b[0m\u001b[0;34m)\u001b[0m  \u001b[0;31m# pylint: disable=protected-access\u001b[0m\u001b[0;34m\u001b[0m\u001b[0;34m\u001b[0m\u001b[0m\n\u001b[0m\u001b[1;32m     93\u001b[0m \u001b[0;34m\u001b[0m\u001b[0m\n\u001b[1;32m     94\u001b[0m   _original_df_formatters[key] = formatters[key].for_type_by_name(\n",
            "\u001b[0;32m/usr/local/lib/python3.12/dist-packages/pandas/io/formats/style.py\u001b[0m in \u001b[0;36m_repr_html_\u001b[0;34m(self)\u001b[0m\n\u001b[1;32m    403\u001b[0m         \"\"\"\n\u001b[1;32m    404\u001b[0m         \u001b[0;32mif\u001b[0m \u001b[0mget_option\u001b[0m\u001b[0;34m(\u001b[0m\u001b[0;34m\"styler.render.repr\"\u001b[0m\u001b[0;34m)\u001b[0m \u001b[0;34m==\u001b[0m \u001b[0;34m\"html\"\u001b[0m\u001b[0;34m:\u001b[0m\u001b[0;34m\u001b[0m\u001b[0;34m\u001b[0m\u001b[0m\n\u001b[0;32m--> 405\u001b[0;31m             \u001b[0;32mreturn\u001b[0m \u001b[0mself\u001b[0m\u001b[0;34m.\u001b[0m\u001b[0mto_html\u001b[0m\u001b[0;34m(\u001b[0m\u001b[0;34m)\u001b[0m\u001b[0;34m\u001b[0m\u001b[0;34m\u001b[0m\u001b[0m\n\u001b[0m\u001b[1;32m    406\u001b[0m         \u001b[0;32mreturn\u001b[0m \u001b[0;32mNone\u001b[0m\u001b[0;34m\u001b[0m\u001b[0;34m\u001b[0m\u001b[0m\n\u001b[1;32m    407\u001b[0m \u001b[0;34m\u001b[0m\u001b[0m\n",
            "\u001b[0;32m/usr/local/lib/python3.12/dist-packages/pandas/io/formats/style.py\u001b[0m in \u001b[0;36mto_html\u001b[0;34m(self, buf, table_uuid, table_attributes, sparse_index, sparse_columns, bold_headers, caption, max_rows, max_columns, encoding, doctype_html, exclude_styles, **kwargs)\u001b[0m\n\u001b[1;32m   1343\u001b[0m \u001b[0;34m\u001b[0m\u001b[0m\n\u001b[1;32m   1344\u001b[0m         \u001b[0;31m# Build HTML string..\u001b[0m\u001b[0;34m\u001b[0m\u001b[0;34m\u001b[0m\u001b[0m\n\u001b[0;32m-> 1345\u001b[0;31m         html = obj._render_html(\n\u001b[0m\u001b[1;32m   1346\u001b[0m             \u001b[0msparse_index\u001b[0m\u001b[0;34m=\u001b[0m\u001b[0msparse_index\u001b[0m\u001b[0;34m,\u001b[0m\u001b[0;34m\u001b[0m\u001b[0;34m\u001b[0m\u001b[0m\n\u001b[1;32m   1347\u001b[0m             \u001b[0msparse_columns\u001b[0m\u001b[0;34m=\u001b[0m\u001b[0msparse_columns\u001b[0m\u001b[0;34m,\u001b[0m\u001b[0;34m\u001b[0m\u001b[0;34m\u001b[0m\u001b[0m\n",
            "\u001b[0;32m/usr/local/lib/python3.12/dist-packages/pandas/io/formats/style_render.py\u001b[0m in \u001b[0;36m_render_html\u001b[0;34m(self, sparse_index, sparse_columns, max_rows, max_cols, **kwargs)\u001b[0m\n\u001b[1;32m    202\u001b[0m         \u001b[0mGenerates\u001b[0m \u001b[0ma\u001b[0m \u001b[0mdict\u001b[0m \u001b[0;32mwith\u001b[0m \u001b[0mnecessary\u001b[0m \u001b[0mkwargs\u001b[0m \u001b[0mpassed\u001b[0m \u001b[0mto\u001b[0m \u001b[0mjinja2\u001b[0m \u001b[0mtemplate\u001b[0m\u001b[0;34m.\u001b[0m\u001b[0;34m\u001b[0m\u001b[0;34m\u001b[0m\u001b[0m\n\u001b[1;32m    203\u001b[0m         \"\"\"\n\u001b[0;32m--> 204\u001b[0;31m         \u001b[0md\u001b[0m \u001b[0;34m=\u001b[0m \u001b[0mself\u001b[0m\u001b[0;34m.\u001b[0m\u001b[0m_render\u001b[0m\u001b[0;34m(\u001b[0m\u001b[0msparse_index\u001b[0m\u001b[0;34m,\u001b[0m \u001b[0msparse_columns\u001b[0m\u001b[0;34m,\u001b[0m \u001b[0mmax_rows\u001b[0m\u001b[0;34m,\u001b[0m \u001b[0mmax_cols\u001b[0m\u001b[0;34m,\u001b[0m \u001b[0;34m\"&nbsp;\"\u001b[0m\u001b[0;34m)\u001b[0m\u001b[0;34m\u001b[0m\u001b[0;34m\u001b[0m\u001b[0m\n\u001b[0m\u001b[1;32m    205\u001b[0m         \u001b[0md\u001b[0m\u001b[0;34m.\u001b[0m\u001b[0mupdate\u001b[0m\u001b[0;34m(\u001b[0m\u001b[0mkwargs\u001b[0m\u001b[0;34m)\u001b[0m\u001b[0;34m\u001b[0m\u001b[0;34m\u001b[0m\u001b[0m\n\u001b[1;32m    206\u001b[0m         return self.template_html.render(\n",
            "\u001b[0;32m/usr/local/lib/python3.12/dist-packages/pandas/io/formats/style_render.py\u001b[0m in \u001b[0;36m_render\u001b[0;34m(self, sparse_index, sparse_columns, max_rows, max_cols, blank)\u001b[0m\n\u001b[1;32m    159\u001b[0m         \u001b[0mstylers\u001b[0m \u001b[0;32mfor\u001b[0m \u001b[0muse\u001b[0m \u001b[0mwithin\u001b[0m\u001b[0;31m \u001b[0m\u001b[0;31m`\u001b[0m\u001b[0m_translate_latex\u001b[0m\u001b[0;31m`\u001b[0m\u001b[0;34m\u001b[0m\u001b[0;34m\u001b[0m\u001b[0m\n\u001b[1;32m    160\u001b[0m         \"\"\"\n\u001b[0;32m--> 161\u001b[0;31m         \u001b[0mself\u001b[0m\u001b[0;34m.\u001b[0m\u001b[0m_compute\u001b[0m\u001b[0;34m(\u001b[0m\u001b[0;34m)\u001b[0m\u001b[0;34m\u001b[0m\u001b[0;34m\u001b[0m\u001b[0m\n\u001b[0m\u001b[1;32m    162\u001b[0m         \u001b[0mdxs\u001b[0m \u001b[0;34m=\u001b[0m \u001b[0;34m[\u001b[0m\u001b[0;34m]\u001b[0m\u001b[0;34m\u001b[0m\u001b[0;34m\u001b[0m\u001b[0m\n\u001b[1;32m    163\u001b[0m         \u001b[0mctx_len\u001b[0m \u001b[0;34m=\u001b[0m \u001b[0mlen\u001b[0m\u001b[0;34m(\u001b[0m\u001b[0mself\u001b[0m\u001b[0;34m.\u001b[0m\u001b[0mindex\u001b[0m\u001b[0;34m)\u001b[0m\u001b[0;34m\u001b[0m\u001b[0;34m\u001b[0m\u001b[0m\n",
            "\u001b[0;32m/usr/local/lib/python3.12/dist-packages/pandas/io/formats/style_render.py\u001b[0m in \u001b[0;36m_compute\u001b[0;34m(self)\u001b[0m\n\u001b[1;32m    254\u001b[0m         \u001b[0mr\u001b[0m \u001b[0;34m=\u001b[0m \u001b[0mself\u001b[0m\u001b[0;34m\u001b[0m\u001b[0;34m\u001b[0m\u001b[0m\n\u001b[1;32m    255\u001b[0m         \u001b[0;32mfor\u001b[0m \u001b[0mfunc\u001b[0m\u001b[0;34m,\u001b[0m \u001b[0margs\u001b[0m\u001b[0;34m,\u001b[0m \u001b[0mkwargs\u001b[0m \u001b[0;32min\u001b[0m \u001b[0mself\u001b[0m\u001b[0;34m.\u001b[0m\u001b[0m_todo\u001b[0m\u001b[0;34m:\u001b[0m\u001b[0;34m\u001b[0m\u001b[0;34m\u001b[0m\u001b[0m\n\u001b[0;32m--> 256\u001b[0;31m             \u001b[0mr\u001b[0m \u001b[0;34m=\u001b[0m \u001b[0mfunc\u001b[0m\u001b[0;34m(\u001b[0m\u001b[0mself\u001b[0m\u001b[0;34m)\u001b[0m\u001b[0;34m(\u001b[0m\u001b[0;34m*\u001b[0m\u001b[0margs\u001b[0m\u001b[0;34m,\u001b[0m \u001b[0;34m**\u001b[0m\u001b[0mkwargs\u001b[0m\u001b[0;34m)\u001b[0m\u001b[0;34m\u001b[0m\u001b[0;34m\u001b[0m\u001b[0m\n\u001b[0m\u001b[1;32m    257\u001b[0m         \u001b[0;32mreturn\u001b[0m \u001b[0mr\u001b[0m\u001b[0;34m\u001b[0m\u001b[0;34m\u001b[0m\u001b[0m\n\u001b[1;32m    258\u001b[0m \u001b[0;34m\u001b[0m\u001b[0m\n",
            "\u001b[0;32m/usr/local/lib/python3.12/dist-packages/pandas/io/formats/style.py\u001b[0m in \u001b[0;36m_apply\u001b[0;34m(self, func, axis, subset, **kwargs)\u001b[0m\n\u001b[1;32m   1707\u001b[0m             \u001b[0mresult\u001b[0m \u001b[0;34m=\u001b[0m \u001b[0mDataFrame\u001b[0m\u001b[0;34m(\u001b[0m\u001b[0;34m)\u001b[0m\u001b[0;34m\u001b[0m\u001b[0;34m\u001b[0m\u001b[0m\n\u001b[1;32m   1708\u001b[0m         \u001b[0;32melif\u001b[0m \u001b[0maxis\u001b[0m \u001b[0;32mis\u001b[0m \u001b[0;32mNone\u001b[0m\u001b[0;34m:\u001b[0m\u001b[0;34m\u001b[0m\u001b[0;34m\u001b[0m\u001b[0m\n\u001b[0;32m-> 1709\u001b[0;31m             \u001b[0mresult\u001b[0m \u001b[0;34m=\u001b[0m \u001b[0mfunc\u001b[0m\u001b[0;34m(\u001b[0m\u001b[0mdata\u001b[0m\u001b[0;34m,\u001b[0m \u001b[0;34m**\u001b[0m\u001b[0mkwargs\u001b[0m\u001b[0;34m)\u001b[0m\u001b[0;34m\u001b[0m\u001b[0;34m\u001b[0m\u001b[0m\n\u001b[0m\u001b[1;32m   1710\u001b[0m             \u001b[0;32mif\u001b[0m \u001b[0;32mnot\u001b[0m \u001b[0misinstance\u001b[0m\u001b[0;34m(\u001b[0m\u001b[0mresult\u001b[0m\u001b[0;34m,\u001b[0m \u001b[0mDataFrame\u001b[0m\u001b[0;34m)\u001b[0m\u001b[0;34m:\u001b[0m\u001b[0;34m\u001b[0m\u001b[0;34m\u001b[0m\u001b[0m\n\u001b[1;32m   1711\u001b[0m                 \u001b[0;32mif\u001b[0m \u001b[0;32mnot\u001b[0m \u001b[0misinstance\u001b[0m\u001b[0;34m(\u001b[0m\u001b[0mresult\u001b[0m\u001b[0;34m,\u001b[0m \u001b[0mnp\u001b[0m\u001b[0;34m.\u001b[0m\u001b[0mndarray\u001b[0m\u001b[0;34m)\u001b[0m\u001b[0;34m:\u001b[0m\u001b[0;34m\u001b[0m\u001b[0;34m\u001b[0m\u001b[0m\n",
            "\u001b[0;32m/tmp/ipython-input-1470625468.py\u001b[0m in \u001b[0;36mresaltar_celda\u001b[0;34m(x)\u001b[0m\n\u001b[1;32m      1\u001b[0m \u001b[0;32mdef\u001b[0m \u001b[0mresaltar_celda\u001b[0m\u001b[0;34m(\u001b[0m\u001b[0mx\u001b[0m\u001b[0;34m)\u001b[0m\u001b[0;34m:\u001b[0m\u001b[0;34m\u001b[0m\u001b[0;34m\u001b[0m\u001b[0m\n\u001b[1;32m      2\u001b[0m     \u001b[0mmatrizE\u001b[0m \u001b[0;34m=\u001b[0m \u001b[0mpd\u001b[0m\u001b[0;34m.\u001b[0m\u001b[0mDataFrame\u001b[0m\u001b[0;34m(\u001b[0m\u001b[0;34m''\u001b[0m\u001b[0;34m,\u001b[0m \u001b[0mindex\u001b[0m\u001b[0;34m=\u001b[0m\u001b[0mx\u001b[0m\u001b[0;34m.\u001b[0m\u001b[0mindex\u001b[0m\u001b[0;34m,\u001b[0m \u001b[0mcolumns\u001b[0m\u001b[0;34m=\u001b[0m\u001b[0mx\u001b[0m\u001b[0;34m.\u001b[0m\u001b[0mcolumns\u001b[0m\u001b[0;34m)\u001b[0m\u001b[0;34m\u001b[0m\u001b[0;34m\u001b[0m\u001b[0m\n\u001b[0;32m----> 3\u001b[0;31m     \u001b[0mmatrizE\u001b[0m\u001b[0;34m.\u001b[0m\u001b[0miat\u001b[0m\u001b[0;34m[\u001b[0m\u001b[0mposicion\u001b[0m\u001b[0;34m[\u001b[0m\u001b[0;36m0\u001b[0m\u001b[0;34m]\u001b[0m\u001b[0;34m[\u001b[0m\u001b[0;36m1\u001b[0m\u001b[0;34m]\u001b[0m\u001b[0;34m,\u001b[0m \u001b[0mposicion\u001b[0m\u001b[0;34m[\u001b[0m\u001b[0;36m0\u001b[0m\u001b[0;34m]\u001b[0m\u001b[0;34m[\u001b[0m\u001b[0;36m0\u001b[0m\u001b[0;34m]\u001b[0m \u001b[0;34m]\u001b[0m \u001b[0;34m=\u001b[0m \u001b[0;34m'background-color: yellow; color: black; font-weight: bold;'\u001b[0m\u001b[0;34m\u001b[0m\u001b[0;34m\u001b[0m\u001b[0m\n\u001b[0m\u001b[1;32m      4\u001b[0m     \u001b[0;32mreturn\u001b[0m \u001b[0mmatrizE\u001b[0m\u001b[0;34m\u001b[0m\u001b[0;34m\u001b[0m\u001b[0m\n\u001b[1;32m      5\u001b[0m \u001b[0;34m\u001b[0m\u001b[0m\n",
            "\u001b[0;31mIndexError\u001b[0m: invalid index to scalar variable."
          ]
        },
        {
          "output_type": "execute_result",
          "data": {
            "text/plain": [
              "<pandas.io.formats.style.Styler at 0x7c915e8a8620>"
            ]
          },
          "metadata": {},
          "execution_count": 1498
        }
      ]
    }
  ],
  "metadata": {
    "kernelspec": {
      "display_name": "Python 3 (ipykernel)",
      "language": "python",
      "name": "python3"
    },
    "language_info": {
      "codemirror_mode": {
        "name": "ipython",
        "version": 3
      },
      "file_extension": ".py",
      "mimetype": "text/x-python",
      "name": "python",
      "nbconvert_exporter": "python",
      "pygments_lexer": "ipython3",
      "version": "3.12.3"
    },
    "colab": {
      "provenance": []
    }
  },
  "nbformat": 4,
  "nbformat_minor": 5
}