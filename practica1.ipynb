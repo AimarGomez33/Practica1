{
 "cells": [
  {
   "cell_type": "code",
   "execution_count": 30,
   "id": "eec5301c-3a01-4ab0-b427-09a63042b44c",
   "metadata": {},
   "outputs": [],
   "source": [
    "import matplotlib.pyplot as plt\n",
    "import pandas as pd\n",
    "import scipy.cluster.hierarchy\n",
    "import numpy as np\n"
   ]
  },
  {
   "cell_type": "markdown",
   "id": "97462ca0-ed9a-4dce-a8d1-9b6c654b43aa",
   "metadata": {},
   "source": [
    "| Estudiante   | Calificación | Horas de estudio |\n",
    "|--------------|--------------|------------------|\n",
    "| Estudiante_1 | 85           | 10               |\n",
    "| Estudiante_2 | 90           | 12               |\n",
    "| Estudiante_3 | 70           | 6                |\n",
    "| Estudiante_4 | 88           | 9                |\n",
    "| Estudiante_5 | 95           | 15               |\n",
    "| Estudiante_6 | 60           | 4                |\n",
    "| Estudiante_7 | 78           | 7                |\n",
    "| Estudiante_8 | 82           | 8                |\n",
    "| Estudiante_9 | 91           | 13               |\n",
    "| Estudiante_10| 74           | 5                |\n"
   ]
  },
  {
   "cell_type": "code",
   "execution_count": 33,
   "id": "2b6399da-8367-4f7d-bd23-50756cf8e890",
   "metadata": {},
   "outputs": [],
   "source": [
    "df = pd.read_csv(\"estudiantes.csv\")"
   ]
  },
  {
   "cell_type": "code",
   "execution_count": 35,
   "id": "19ef484a-6534-409e-af54-979cbd6ea689",
   "metadata": {},
   "outputs": [
    {
     "name": "stdout",
     "output_type": "stream",
     "text": [
      "      Estudiante  Calificación  Horas_de_estudio\n",
      "0   Estudiante_1            85                10\n",
      "1   Estudiante_2            90                12\n",
      "2   Estudiante_3            70                 6\n",
      "3   Estudiante_4            88                 9\n",
      "4   Estudiante_5            95                15\n",
      "5   Estudiante_6            60                 4\n",
      "6   Estudiante_7            78                 7\n",
      "7   Estudiante_8            82                 8\n",
      "8   Estudiante_9            91                13\n",
      "9  Estudiante_10            74                 5\n"
     ]
    }
   ],
   "source": [
    "print(df)"
   ]
  },
  {
   "cell_type": "code",
   "execution_count": 57,
   "id": "18db2cde-57cc-4453-8ace-85172b151deb",
   "metadata": {},
   "outputs": [
    {
     "name": "stdout",
     "output_type": "stream",
     "text": [
      "0    85\n",
      "1    90\n",
      "2    70\n",
      "3    88\n",
      "4    95\n",
      "5    60\n",
      "6    78\n",
      "7    82\n",
      "8    91\n",
      "9    74\n",
      "Name: Calificación, dtype: int64 0    10\n",
      "1    12\n",
      "2     6\n",
      "3     9\n",
      "4    15\n",
      "5     4\n",
      "6     7\n",
      "7     8\n",
      "8    13\n",
      "9     5\n",
      "Name: Horas_de_estudio, dtype: int64\n"
     ]
    }
   ],
   "source": [
    "print(df[\"Calificación\"], df[\"Horas_de_estudio\"])"
   ]
  },
  {
   "cell_type": "code",
   "execution_count": 28,
   "id": "7b7b40c1-9f27-42da-8b43-003ee2f08fea",
   "metadata": {},
   "outputs": [
    {
     "data": {
      "image/png": "[encoded data removed]",
      "text/plain": [
       "<Figure size 640x480 with 1 Axes>"
      ]
     },
     "metadata": {},
     "output_type": "display_data"
    }
   ],
   "source": [
    "plt.scatter(df[\"Calificación\"], df[\"Horas_de_estudio\"], color='blue')\n",
    "plt.xlabel(\"Calificacion\")      \n",
    "plt.ylabel(\"Horas de estudio\") \n",
    "plt.grid(True)\n",
    "plt.show()"
   ]
  },
  {
   "cell_type": "code",
   "execution_count": 39,
   "id": "0993d15d-7c7a-4524-8fef-3b5c9b0c3f25",
   "metadata": {},
   "outputs": [],
   "source": [
    "n = len(df[\"Calificación\"])\n",
    "m = len(df[\"Horas_de_estudio\"])\n",
    "matrizDistancias= np.zeros((n, m)) "
   ]
  },
  {
   "cell_type": "code",
   "execution_count": 47,
   "id": "0a5419b3-32fa-4bf1-85c8-e2c802f0a967",
   "metadata": {},
   "outputs": [
    {
     "name": "stdout",
     "output_type": "stream",
     "text": [
      "[85 90 70 88 95 60 78 82 91 74] [10 12  6  9 15  4  7  8 13  5]\n"
     ]
    }
   ],
   "source": [
    "calificaciones = df[\"Calificación\"].to_numpy()\n",
    "horas = df[\"Horas_de_estudio\"].to_numpy()\n",
    "\n",
    "print(calificaciones, horas)"
   ]
  },
  {
   "cell_type": "code",
   "execution_count": 65,
   "id": "1887efb5-b5ed-4d20-9811-2ca3a91aef7f",
   "metadata": {},
   "outputs": [
    {
     "name": "stdout",
     "output_type": "stream",
     "text": [
      "[[   0.   29.  241.   10.  125.  661.   58.   13.   45.  146.]\n",
      " [  29.    0.  436.   13.   34.  964.  169.   80.    2.  305.]\n",
      " [ 241.  436.    0.  333.  706.  104.   65.  148.  490.   17.]\n",
      " [  10.   13.  333.    0.   85.  809.  104.   37.   25.  212.]\n",
      " [ 125.   34.  706.   85.    0. 1346.  353.  218.   20.  541.]\n",
      " [ 661.  964.  104.  809. 1346.    0.  333.  500. 1042.  197.]\n",
      " [  58.  169.   65.  104.  353.  333.    0.   17.  205.   20.]\n",
      " [  13.   80.  148.   37.  218.  500.   17.    0.  106.   73.]\n",
      " [  45.    2.  490.   25.   20. 1042.  205.  106.    0.  353.]\n",
      " [ 146.  305.   17.  212.  541.  197.   20.   73.  353.    0.]]\n"
     ]
    }
   ],
   "source": [
    "\n",
    "for i in range(n):\n",
    "    for j in range(n):\n",
    "        dx = calificaciones[i] - calificaciones[j]\n",
    "        dy = horas[i] - horas[j]\n",
    "        distancia = dx**2 + dy**2\n",
    "        matrizDistancias[i][j] = distancia\n",
    "\n",
    "print(matrizDistancias)"
   ]
  },
  {
   "cell_type": "code",
   "execution_count": 67,
   "id": "20ea0711-9a13-4ab2-a7e9-b8fc4c638e16",
   "metadata": {},
   "outputs": [
    {
     "name": "stdout",
     "output_type": "stream",
     "text": [
      "Distancia mínima encontrada: 2.0\n",
      "Entre Estudiante_2 y Estudiante_9\n"
     ]
    }
   ],
   "source": [
    "min_val = np.inf\n",
    "min_i, min_j = -1, -1\n",
    "\n",
    "for i in range(n):\n",
    "    for j in range(n):\n",
    "        if i != j and matrizDistancias[i][j] < min_val:\n",
    "            min_val = matrizDistancias[i][j]\n",
    "            min_i, min_j = i, j\n",
    "\n",
    "print(\"Distancia mínima encontrada:\", min_val)\n",
    "print(\"Entre Estudiante_{} y Estudiante_{}\".format(min_i+1, min_j+1))"
   ]
  },
  {
   "cell_type": "code",
   "execution_count": null,
   "id": "0714b154-3187-47e0-89f4-ea15ecf5bc2a",
   "metadata": {},
   "outputs": [],
   "source": []
  }
 ],
 "metadata": {
  "kernelspec": {
   "display_name": "Python [conda env:base] *",
   "language": "python",
   "name": "conda-base-py"
  },
  "language_info": {
   "codemirror_mode": {
    "name": "ipython",
    "version": 3
   },
   "file_extension": ".py",
   "mimetype": "text/x-python",
   "name": "python",
   "nbconvert_exporter": "python",
   "pygments_lexer": "ipython3",
   "version": "3.12.7"
  }
 },
 "nbformat": 4,
 "nbformat_minor": 5
}
