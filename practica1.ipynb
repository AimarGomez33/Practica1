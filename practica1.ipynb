{
  "cells": [
    {
      "cell_type": "markdown",
      "metadata": {
        "id": "view-in-github",
        "colab_type": "text"
      },
      "source": [
        "<a href=\"https://colab.research.google.com/github/AimarGomez33/Practica1/blob/main/practica1.ipynb\" target=\"_parent\"><img src=\"https://colab.research.google.com/assets/colab-badge.svg\" alt=\"Open In Colab\"/></a>"
      ]
    },
    {
      "cell_type": "code",
      "execution_count": null,
      "id": "eec5301c-3a01-4ab0-b427-09a63042b44c",
      "metadata": {
        "id": "eec5301c-3a01-4ab0-b427-09a63042b44c"
      },
      "outputs": [],
      "source": [
        "import matplotlib.pyplot as plt\n",
        "import pandas as pd\n",
        "import scipy.cluster.hierarchy\n",
        "import numpy as np"
      ]
    },
    {
      "cell_type": "markdown",
      "id": "97462ca0-ed9a-4dce-a8d1-9b6c654b43aa",
      "metadata": {
        "id": "97462ca0-ed9a-4dce-a8d1-9b6c654b43aa"
      },
      "source": [
        "| Estudiante   | Calificación | Horas de estudio |\n",
        "|--------------|--------------|------------------|\n",
        "| Estudiante_1 | 85           | 10               |\n",
        "| Estudiante_2 | 90           | 12               |\n",
        "| Estudiante_3 | 70           | 6                |\n",
        "| Estudiante_4 | 88           | 9                |\n",
        "| Estudiante_5 | 95           | 15               |\n",
        "| Estudiante_6 | 60           | 4                |\n",
        "| Estudiante_7 | 78           | 7                |\n",
        "| Estudiante_8 | 82           | 8                |\n",
        "| Estudiante_9 | 91           | 13               |\n",
        "| Estudiante_10| 74           | 5                |\n"
      ]
    },
    {
      "cell_type": "code",
      "execution_count": null,
      "id": "2b6399da-8367-4f7d-bd23-50756cf8e890",
      "metadata": {
        "id": "2b6399da-8367-4f7d-bd23-50756cf8e890"
      },
      "outputs": [],
      "source": [
        "df = pd.read_csv(\"calificaciones_estudio.csv\")"
      ]
    },
    {
      "cell_type": "code",
      "execution_count": null,
      "id": "19ef484a-6534-409e-af54-979cbd6ea689",
      "metadata": {
        "colab": {
          "base_uri": "https://localhost:8080/"
        },
        "id": "19ef484a-6534-409e-af54-979cbd6ea689",
        "outputId": "d476e7bd-5c74-472c-8a1d-efa97d4eb9a5"
      },
      "outputs": [
        {
          "output_type": "stream",
          "name": "stdout",
          "text": [
            "   Calificación  Horas_de_estudio\n",
            "0            85                10\n",
            "1            90                12\n",
            "2            70                 6\n",
            "3            88                 9\n",
            "4            95                15\n",
            "5            60                 4\n",
            "6            78                 7\n",
            "7            82                 8\n",
            "8            91                13\n",
            "9            74                 5\n"
          ]
        }
      ],
      "source": [
        "print(df)"
      ]
    },
    {
      "cell_type": "code",
      "execution_count": null,
      "id": "7b7b40c1-9f27-42da-8b43-003ee2f08fea",
      "metadata": {
        "scrolled": true,
        "colab": {
          "base_uri": "https://localhost:8080/",
          "height": 251
        },
        "id": "7b7b40c1-9f27-42da-8b43-003ee2f08fea",
        "outputId": "9b331757-4300-43a9-87ab-41ecee759167"
      },
      "outputs": [
        {
          "output_type": "display_data",
          "data": {
            "text/plain": [
              "<Figure size 640x480 with 1 Axes>"
            ],
            "image/png": "[encoded data removed]"
          },
          "metadata": {}
        }
      ],
      "source": [
        "plt.scatter(df[\"Calificación\"], df[\"Horas_de_estudio\"], color='blue')\n",
        "plt.xlabel(\"Calificacion\")\n",
        "plt.ylabel(\"Horas de estudio\")\n",
        "plt.grid(True)\n",
        "plt.show()"
      ]
    },
    {
      "cell_type": "code",
      "execution_count": null,
      "id": "0993d15d-7c7a-4524-8fef-3b5c9b0c3f25",
      "metadata": {
        "id": "0993d15d-7c7a-4524-8fef-3b5c9b0c3f25"
      },
      "outputs": [],
      "source": [
        "n = len(df[\"Calificación\"])\n",
        "m = len(df[\"Horas_de_estudio\"])\n",
        "matrizDistancias= np.zeros((n, m), dtype= np.int64)"
      ]
    },
    {
      "cell_type": "code",
      "execution_count": null,
      "id": "0a5419b3-32fa-4bf1-85c8-e2c802f0a967",
      "metadata": {
        "colab": {
          "base_uri": "https://localhost:8080/"
        },
        "id": "0a5419b3-32fa-4bf1-85c8-e2c802f0a967",
        "outputId": "ad135baa-e9d3-4695-c860-a2cc8ba0af7c"
      },
      "outputs": [
        {
          "output_type": "stream",
          "name": "stdout",
          "text": [
            "[85 90 70 88 95 60 78 82 91 74] [10 12  6  9 15  4  7  8 13  5]\n"
          ]
        }
      ],
      "source": [
        "calificaciones = df[\"Calificación\"].to_numpy()\n",
        "horas = df[\"Horas_de_estudio\"].to_numpy()\n",
        "\n",
        "print(calificaciones, horas)"
      ]
    },
    {
      "cell_type": "code",
      "execution_count": null,
      "id": "1887efb5-b5ed-4d20-9811-2ca3a91aef7f",
      "metadata": {
        "colab": {
          "base_uri": "https://localhost:8080/"
        },
        "id": "1887efb5-b5ed-4d20-9811-2ca3a91aef7f",
        "outputId": "2d7dc19e-af10-48c7-8e50-7c30cd18ef3c"
      },
      "outputs": [
        {
          "output_type": "stream",
          "name": "stdout",
          "text": [
            "[[   0   29  241   10  125  661   58   13   45  146]\n",
            " [  29    0  436   13   34  964  169   80    2  305]\n",
            " [ 241  436    0  333  706  104   65  148  490   17]\n",
            " [  10   13  333    0   85  809  104   37   25  212]\n",
            " [ 125   34  706   85    0 1346  353  218   20  541]\n",
            " [ 661  964  104  809 1346    0  333  500 1042  197]\n",
            " [  58  169   65  104  353  333    0   17  205   20]\n",
            " [  13   80  148   37  218  500   17    0  106   73]\n",
            " [  45    2  490   25   20 1042  205  106    0  353]\n",
            " [ 146  305   17  212  541  197   20   73  353    0]]\n"
          ]
        }
      ],
      "source": [
        "for i in range(n):\n",
        "    for j in range(n):\n",
        "        dx = calificaciones[i] - calificaciones[j]\n",
        "        dy = horas[i] - horas[j]\n",
        "        distancia = dx**2 + dy**2\n",
        "        matrizDistancias[i][j] = distancia\n",
        "\n",
        "print(matrizDistancias)"
      ]
    },
    {
      "cell_type": "code",
      "execution_count": null,
      "id": "0714b154-3187-47e0-89f4-ea15ecf5bc2a",
      "metadata": {
        "colab": {
          "base_uri": "https://localhost:8080/"
        },
        "id": "0714b154-3187-47e0-89f4-ea15ecf5bc2a",
        "outputId": "8e4c064f-7a16-4b48-c95e-ec8989036ba5"
      },
      "outputs": [
        {
          "output_type": "stream",
          "name": "stdout",
          "text": [
            "distancia minima:  2\n",
            "(array([1, 8]), array([8, 1]))\n"
          ]
        }
      ],
      "source": [
        "#matriz = pd.DataFrame(etiquetas)\n",
        "#similaridades = np.zeros((n,m))\n",
        "sim = np.min(matrizDistancias[np.nonzero(matrizDistancias)])\n",
        "print(\"distancia minima: \", sim)\n",
        "posicion = np.where(matrizDistancias == sim)\n",
        "print(posicion)\n",
        "#similaridades[0][0] = posicion[0]"
      ]
    },
    {
      "cell_type": "code",
      "execution_count": null,
      "id": "2e45b2f9-e994-4f30-9934-8a9ca7219812",
      "metadata": {
        "colab": {
          "base_uri": "https://localhost:8080/"
        },
        "id": "2e45b2f9-e994-4f30-9934-8a9ca7219812",
        "outputId": "4412e3fc-be2b-47ac-f2b5-ede28dd2dedb"
      },
      "outputs": [
        {
          "output_type": "stream",
          "name": "stdout",
          "text": [
            "pares:  (np.int64(1), np.int64(8))\n",
            "(np.int64(1), np.int64(8))\n",
            "[(np.int64(1), np.int64(8)) 0 0 0 0 0 0 0 0 0]\n"
          ]
        }
      ],
      "source": [
        "par = (posicion[0][0], posicion[1][0])\n",
        "print(\"pares: \", par)\n",
        "pares_array = np.zeros(m, dtype=object)\n",
        "print(par)\n",
        "pares_array[0] = par\n",
        "print(pares_array)"
      ]
    },
    {
      "cell_type": "code",
      "execution_count": null,
      "id": "f4762c75-4c49-4e84-a533-e9f30dc0112f",
      "metadata": {
        "colab": {
          "base_uri": "https://localhost:8080/"
        },
        "id": "f4762c75-4c49-4e84-a533-e9f30dc0112f",
        "outputId": "af85043e-63fc-42a1-d471-dd2a61488f5c"
      },
      "outputs": [
        {
          "output_type": "stream",
          "name": "stdout",
          "text": [
            "[[   0   29  241   10  125  661   58   13   45  146]\n",
            " [  29    0  436   13   34  964  169   80    2  305]\n",
            " [ 241  436    0  333  706  104   65  148  490   17]\n",
            " [  10   13  333    0   85  809  104   37   25  212]\n",
            " [ 125   34  706   85    0 1346  353  218   20  541]\n",
            " [ 661  964  104  809 1346    0  333  500 1042  197]\n",
            " [  58  169   65  104  353  333    0   17  205   20]\n",
            " [  13   80  148   37  218  500   17    0  106   73]\n",
            " [  45    2  490   25   20 1042  205  106    0  353]\n",
            " [ 146  305   17  212  541  197   20   73  353    0]]\n"
          ]
        }
      ],
      "source": [
        "M = matrizDistancias.copy()\n",
        "print(M)"
      ]
    },
    {
      "cell_type": "code",
      "execution_count": null,
      "id": "26dc7b63-00f2-40b0-a854-5310c24c23ae",
      "metadata": {
        "colab": {
          "base_uri": "https://localhost:8080/"
        },
        "id": "26dc7b63-00f2-40b0-a854-5310c24c23ae",
        "outputId": "e72eff34-0279-4a5f-824c-e991a9ac9db1"
      },
      "outputs": [
        {
          "output_type": "stream",
          "name": "stdout",
          "text": [
            "      E1   E2   E3   E4    E5    E6   E7   E8    E9  E10\n",
            "E1     0   29  241   10   125   661   58   13    45  146\n",
            "E2    29    0  436   13    34   964  169   80     2  305\n",
            "E3   241  436    0  333   706   104   65  148   490   17\n",
            "E4    10   13  333    0    85   809  104   37    25  212\n",
            "E5   125   34  706   85     0  1346  353  218    20  541\n",
            "E6   661  964  104  809  1346     0  333  500  1042  197\n",
            "E7    58  169   65  104   353   333    0   17   205   20\n",
            "E8    13   80  148   37   218   500   17    0   106   73\n",
            "E9    45    2  490   25    20  1042  205  106     0  353\n",
            "E10  146  305   17  212   541   197   20   73   353    0\n"
          ]
        }
      ],
      "source": [
        "etiquetas = np.array(['E1','E2','E3','E4','E5','E6','E7','E8','E9','E10'])\n",
        "parPd = etiquetas[par[0]]\n",
        "\n",
        "matrizE = pd.DataFrame(matrizDistancias, index=etiquetas, columns=etiquetas)\n",
        "print(matrizE)"
      ]
    },
    {
      "cell_type": "code",
      "execution_count": null,
      "id": "b43894c4-7b1e-49c3-90fb-86ec61059420",
      "metadata": {
        "colab": {
          "base_uri": "https://localhost:8080/",
          "height": 383
        },
        "id": "b43894c4-7b1e-49c3-90fb-86ec61059420",
        "outputId": "0d2cc3d3-d548-457f-f6a7-f3e440e3b782"
      },
      "outputs": [
        {
          "output_type": "execute_result",
          "data": {
            "text/plain": [
              "<pandas.io.formats.style.Styler at 0x7c43a96b9a90>"
            ],
            "text/html": [
              "<style type=\"text/css\">\n",
              "#T_1d778_row8_col1 {\n",
              "  background-color: yellow;\n",
              "  color: black;\n",
              "  font-weight: bold;\n",
              "}\n",
              "</style>\n",
              "<table id=\"T_1d778\" class=\"dataframe\">\n",
              "  <thead>\n",
              "    <tr>\n",
              "      <th class=\"blank level0\" >&nbsp;</th>\n",
              "      <th id=\"T_1d778_level0_col0\" class=\"col_heading level0 col0\" >E1</th>\n",
              "      <th id=\"T_1d778_level0_col1\" class=\"col_heading level0 col1\" >E2</th>\n",
              "      <th id=\"T_1d778_level0_col2\" class=\"col_heading level0 col2\" >E3</th>\n",
              "      <th id=\"T_1d778_level0_col3\" class=\"col_heading level0 col3\" >E4</th>\n",
              "      <th id=\"T_1d778_level0_col4\" class=\"col_heading level0 col4\" >E5</th>\n",
              "      <th id=\"T_1d778_level0_col5\" class=\"col_heading level0 col5\" >E6</th>\n",
              "      <th id=\"T_1d778_level0_col6\" class=\"col_heading level0 col6\" >E7</th>\n",
              "      <th id=\"T_1d778_level0_col7\" class=\"col_heading level0 col7\" >E8</th>\n",
              "      <th id=\"T_1d778_level0_col8\" class=\"col_heading level0 col8\" >E9</th>\n",
              "      <th id=\"T_1d778_level0_col9\" class=\"col_heading level0 col9\" >E10</th>\n",
              "    </tr>\n",
              "  </thead>\n",
              "  <tbody>\n",
              "    <tr>\n",
              "      <th id=\"T_1d778_level0_row0\" class=\"row_heading level0 row0\" >E1</th>\n",
              "      <td id=\"T_1d778_row0_col0\" class=\"data row0 col0\" >0</td>\n",
              "      <td id=\"T_1d778_row0_col1\" class=\"data row0 col1\" >29</td>\n",
              "      <td id=\"T_1d778_row0_col2\" class=\"data row0 col2\" >241</td>\n",
              "      <td id=\"T_1d778_row0_col3\" class=\"data row0 col3\" >10</td>\n",
              "      <td id=\"T_1d778_row0_col4\" class=\"data row0 col4\" >125</td>\n",
              "      <td id=\"T_1d778_row0_col5\" class=\"data row0 col5\" >661</td>\n",
              "      <td id=\"T_1d778_row0_col6\" class=\"data row0 col6\" >58</td>\n",
              "      <td id=\"T_1d778_row0_col7\" class=\"data row0 col7\" >13</td>\n",
              "      <td id=\"T_1d778_row0_col8\" class=\"data row0 col8\" >45</td>\n",
              "      <td id=\"T_1d778_row0_col9\" class=\"data row0 col9\" >146</td>\n",
              "    </tr>\n",
              "    <tr>\n",
              "      <th id=\"T_1d778_level0_row1\" class=\"row_heading level0 row1\" >E2</th>\n",
              "      <td id=\"T_1d778_row1_col0\" class=\"data row1 col0\" >29</td>\n",
              "      <td id=\"T_1d778_row1_col1\" class=\"data row1 col1\" >0</td>\n",
              "      <td id=\"T_1d778_row1_col2\" class=\"data row1 col2\" >436</td>\n",
              "      <td id=\"T_1d778_row1_col3\" class=\"data row1 col3\" >13</td>\n",
              "      <td id=\"T_1d778_row1_col4\" class=\"data row1 col4\" >34</td>\n",
              "      <td id=\"T_1d778_row1_col5\" class=\"data row1 col5\" >964</td>\n",
              "      <td id=\"T_1d778_row1_col6\" class=\"data row1 col6\" >169</td>\n",
              "      <td id=\"T_1d778_row1_col7\" class=\"data row1 col7\" >80</td>\n",
              "      <td id=\"T_1d778_row1_col8\" class=\"data row1 col8\" >2</td>\n",
              "      <td id=\"T_1d778_row1_col9\" class=\"data row1 col9\" >305</td>\n",
              "    </tr>\n",
              "    <tr>\n",
              "      <th id=\"T_1d778_level0_row2\" class=\"row_heading level0 row2\" >E3</th>\n",
              "      <td id=\"T_1d778_row2_col0\" class=\"data row2 col0\" >241</td>\n",
              "      <td id=\"T_1d778_row2_col1\" class=\"data row2 col1\" >436</td>\n",
              "      <td id=\"T_1d778_row2_col2\" class=\"data row2 col2\" >0</td>\n",
              "      <td id=\"T_1d778_row2_col3\" class=\"data row2 col3\" >333</td>\n",
              "      <td id=\"T_1d778_row2_col4\" class=\"data row2 col4\" >706</td>\n",
              "      <td id=\"T_1d778_row2_col5\" class=\"data row2 col5\" >104</td>\n",
              "      <td id=\"T_1d778_row2_col6\" class=\"data row2 col6\" >65</td>\n",
              "      <td id=\"T_1d778_row2_col7\" class=\"data row2 col7\" >148</td>\n",
              "      <td id=\"T_1d778_row2_col8\" class=\"data row2 col8\" >490</td>\n",
              "      <td id=\"T_1d778_row2_col9\" class=\"data row2 col9\" >17</td>\n",
              "    </tr>\n",
              "    <tr>\n",
              "      <th id=\"T_1d778_level0_row3\" class=\"row_heading level0 row3\" >E4</th>\n",
              "      <td id=\"T_1d778_row3_col0\" class=\"data row3 col0\" >10</td>\n",
              "      <td id=\"T_1d778_row3_col1\" class=\"data row3 col1\" >13</td>\n",
              "      <td id=\"T_1d778_row3_col2\" class=\"data row3 col2\" >333</td>\n",
              "      <td id=\"T_1d778_row3_col3\" class=\"data row3 col3\" >0</td>\n",
              "      <td id=\"T_1d778_row3_col4\" class=\"data row3 col4\" >85</td>\n",
              "      <td id=\"T_1d778_row3_col5\" class=\"data row3 col5\" >809</td>\n",
              "      <td id=\"T_1d778_row3_col6\" class=\"data row3 col6\" >104</td>\n",
              "      <td id=\"T_1d778_row3_col7\" class=\"data row3 col7\" >37</td>\n",
              "      <td id=\"T_1d778_row3_col8\" class=\"data row3 col8\" >25</td>\n",
              "      <td id=\"T_1d778_row3_col9\" class=\"data row3 col9\" >212</td>\n",
              "    </tr>\n",
              "    <tr>\n",
              "      <th id=\"T_1d778_level0_row4\" class=\"row_heading level0 row4\" >E5</th>\n",
              "      <td id=\"T_1d778_row4_col0\" class=\"data row4 col0\" >125</td>\n",
              "      <td id=\"T_1d778_row4_col1\" class=\"data row4 col1\" >34</td>\n",
              "      <td id=\"T_1d778_row4_col2\" class=\"data row4 col2\" >706</td>\n",
              "      <td id=\"T_1d778_row4_col3\" class=\"data row4 col3\" >85</td>\n",
              "      <td id=\"T_1d778_row4_col4\" class=\"data row4 col4\" >0</td>\n",
              "      <td id=\"T_1d778_row4_col5\" class=\"data row4 col5\" >1346</td>\n",
              "      <td id=\"T_1d778_row4_col6\" class=\"data row4 col6\" >353</td>\n",
              "      <td id=\"T_1d778_row4_col7\" class=\"data row4 col7\" >218</td>\n",
              "      <td id=\"T_1d778_row4_col8\" class=\"data row4 col8\" >20</td>\n",
              "      <td id=\"T_1d778_row4_col9\" class=\"data row4 col9\" >541</td>\n",
              "    </tr>\n",
              "    <tr>\n",
              "      <th id=\"T_1d778_level0_row5\" class=\"row_heading level0 row5\" >E6</th>\n",
              "      <td id=\"T_1d778_row5_col0\" class=\"data row5 col0\" >661</td>\n",
              "      <td id=\"T_1d778_row5_col1\" class=\"data row5 col1\" >964</td>\n",
              "      <td id=\"T_1d778_row5_col2\" class=\"data row5 col2\" >104</td>\n",
              "      <td id=\"T_1d778_row5_col3\" class=\"data row5 col3\" >809</td>\n",
              "      <td id=\"T_1d778_row5_col4\" class=\"data row5 col4\" >1346</td>\n",
              "      <td id=\"T_1d778_row5_col5\" class=\"data row5 col5\" >0</td>\n",
              "      <td id=\"T_1d778_row5_col6\" class=\"data row5 col6\" >333</td>\n",
              "      <td id=\"T_1d778_row5_col7\" class=\"data row5 col7\" >500</td>\n",
              "      <td id=\"T_1d778_row5_col8\" class=\"data row5 col8\" >1042</td>\n",
              "      <td id=\"T_1d778_row5_col9\" class=\"data row5 col9\" >197</td>\n",
              "    </tr>\n",
              "    <tr>\n",
              "      <th id=\"T_1d778_level0_row6\" class=\"row_heading level0 row6\" >E7</th>\n",
              "      <td id=\"T_1d778_row6_col0\" class=\"data row6 col0\" >58</td>\n",
              "      <td id=\"T_1d778_row6_col1\" class=\"data row6 col1\" >169</td>\n",
              "      <td id=\"T_1d778_row6_col2\" class=\"data row6 col2\" >65</td>\n",
              "      <td id=\"T_1d778_row6_col3\" class=\"data row6 col3\" >104</td>\n",
              "      <td id=\"T_1d778_row6_col4\" class=\"data row6 col4\" >353</td>\n",
              "      <td id=\"T_1d778_row6_col5\" class=\"data row6 col5\" >333</td>\n",
              "      <td id=\"T_1d778_row6_col6\" class=\"data row6 col6\" >0</td>\n",
              "      <td id=\"T_1d778_row6_col7\" class=\"data row6 col7\" >17</td>\n",
              "      <td id=\"T_1d778_row6_col8\" class=\"data row6 col8\" >205</td>\n",
              "      <td id=\"T_1d778_row6_col9\" class=\"data row6 col9\" >20</td>\n",
              "    </tr>\n",
              "    <tr>\n",
              "      <th id=\"T_1d778_level0_row7\" class=\"row_heading level0 row7\" >E8</th>\n",
              "      <td id=\"T_1d778_row7_col0\" class=\"data row7 col0\" >13</td>\n",
              "      <td id=\"T_1d778_row7_col1\" class=\"data row7 col1\" >80</td>\n",
              "      <td id=\"T_1d778_row7_col2\" class=\"data row7 col2\" >148</td>\n",
              "      <td id=\"T_1d778_row7_col3\" class=\"data row7 col3\" >37</td>\n",
              "      <td id=\"T_1d778_row7_col4\" class=\"data row7 col4\" >218</td>\n",
              "      <td id=\"T_1d778_row7_col5\" class=\"data row7 col5\" >500</td>\n",
              "      <td id=\"T_1d778_row7_col6\" class=\"data row7 col6\" >17</td>\n",
              "      <td id=\"T_1d778_row7_col7\" class=\"data row7 col7\" >0</td>\n",
              "      <td id=\"T_1d778_row7_col8\" class=\"data row7 col8\" >106</td>\n",
              "      <td id=\"T_1d778_row7_col9\" class=\"data row7 col9\" >73</td>\n",
              "    </tr>\n",
              "    <tr>\n",
              "      <th id=\"T_1d778_level0_row8\" class=\"row_heading level0 row8\" >E9</th>\n",
              "      <td id=\"T_1d778_row8_col0\" class=\"data row8 col0\" >45</td>\n",
              "      <td id=\"T_1d778_row8_col1\" class=\"data row8 col1\" >2</td>\n",
              "      <td id=\"T_1d778_row8_col2\" class=\"data row8 col2\" >490</td>\n",
              "      <td id=\"T_1d778_row8_col3\" class=\"data row8 col3\" >25</td>\n",
              "      <td id=\"T_1d778_row8_col4\" class=\"data row8 col4\" >20</td>\n",
              "      <td id=\"T_1d778_row8_col5\" class=\"data row8 col5\" >1042</td>\n",
              "      <td id=\"T_1d778_row8_col6\" class=\"data row8 col6\" >205</td>\n",
              "      <td id=\"T_1d778_row8_col7\" class=\"data row8 col7\" >106</td>\n",
              "      <td id=\"T_1d778_row8_col8\" class=\"data row8 col8\" >0</td>\n",
              "      <td id=\"T_1d778_row8_col9\" class=\"data row8 col9\" >353</td>\n",
              "    </tr>\n",
              "    <tr>\n",
              "      <th id=\"T_1d778_level0_row9\" class=\"row_heading level0 row9\" >E10</th>\n",
              "      <td id=\"T_1d778_row9_col0\" class=\"data row9 col0\" >146</td>\n",
              "      <td id=\"T_1d778_row9_col1\" class=\"data row9 col1\" >305</td>\n",
              "      <td id=\"T_1d778_row9_col2\" class=\"data row9 col2\" >17</td>\n",
              "      <td id=\"T_1d778_row9_col3\" class=\"data row9 col3\" >212</td>\n",
              "      <td id=\"T_1d778_row9_col4\" class=\"data row9 col4\" >541</td>\n",
              "      <td id=\"T_1d778_row9_col5\" class=\"data row9 col5\" >197</td>\n",
              "      <td id=\"T_1d778_row9_col6\" class=\"data row9 col6\" >20</td>\n",
              "      <td id=\"T_1d778_row9_col7\" class=\"data row9 col7\" >73</td>\n",
              "      <td id=\"T_1d778_row9_col8\" class=\"data row9 col8\" >353</td>\n",
              "      <td id=\"T_1d778_row9_col9\" class=\"data row9 col9\" >0</td>\n",
              "    </tr>\n",
              "  </tbody>\n",
              "</table>\n"
            ]
          },
          "metadata": {},
          "execution_count": 308
        }
      ],
      "source": [
        "def resaltar_celda(x):\n",
        "    matrizE = pd.DataFrame('', index=x.index, columns=x.columns)\n",
        "    # Access the elements of the 1D array correctly\n",
        "    matrizE.iat[posicion[1][0] , posicion[0][0]] = 'background-color: yellow; color: black; font-weight: bold;'\n",
        "    return matrizE\n",
        "\n",
        "def mostrar_matriz(x):\n",
        "    matrizE = pd.DataFrame('background-color: yellow; color: black; font-weight: bold;',\n",
        "                           index=x.index, columns=x.columns)\n",
        "    return matrizE\n",
        "\n",
        "\n",
        "# Aplicamos estilos\n",
        "matrizE.style.apply(resaltar_celda, axis=None)"
      ]
    },
    {
      "cell_type": "code",
      "execution_count": null,
      "id": "05437026-c7f0-4f59-8d55-a9fb3f930cae",
      "metadata": {
        "colab": {
          "base_uri": "https://localhost:8080/"
        },
        "id": "05437026-c7f0-4f59-8d55-a9fb3f930cae",
        "outputId": "8da83b60-7620-4b69-98f9-cf653b5a0c58"
      },
      "outputs": [
        {
          "output_type": "stream",
          "name": "stdout",
          "text": [
            "['E1' 'E2E9' 'E3' 'E4' 'E5' 'E6' 'E7' 'E8' 'E10']\n"
          ]
        }
      ],
      "source": [
        "clusters = np.array(['E1','E2','E3','E4','E5','E6','E7','E8','E9','E10'], dtype=object)\n",
        "clusters[posicion[0][0]] = \"{}{}\".format(etiquetas[posicion[0][0]], etiquetas[posicion[0][1]])\n",
        "\n",
        "clusters = np.delete(clusters, posicion[0][1])\n",
        "print(clusters)"
      ]
    },
    {
      "cell_type": "code",
      "execution_count": null,
      "id": "d1d64d43-5ff9-481f-ae5c-9a2da8f380fa",
      "metadata": {
        "id": "d1d64d43-5ff9-481f-ae5c-9a2da8f380fa"
      },
      "outputs": [],
      "source": [
        "matrizFusion1 = matrizE.drop(index=etiquetas[posicion[0][0]])\n",
        "matrizFusion1 = matrizE.drop(columns=etiquetas[posicion[0][1]])"
      ]
    },
    {
      "cell_type": "code",
      "execution_count": null,
      "id": "4f0291bc-2902-4dd2-9bf3-e01856a7c984",
      "metadata": {
        "id": "4f0291bc-2902-4dd2-9bf3-e01856a7c984"
      },
      "outputs": [],
      "source": [
        "matrizFusion1 = pd.DataFrame(matrizE, index=clusters, columns=clusters)"
      ]
    },
    {
      "cell_type": "code",
      "execution_count": null,
      "id": "26765e89-26e5-4505-a217-e31e0e38739a",
      "metadata": {
        "colab": {
          "base_uri": "https://localhost:8080/"
        },
        "id": "26765e89-26e5-4505-a217-e31e0e38739a",
        "outputId": "661cf191-6af1-418d-c3fd-92ed3718588f"
      },
      "outputs": [
        {
          "output_type": "stream",
          "name": "stdout",
          "text": [
            "         E1  E2E9     E3     E4      E5      E6     E7     E8    E10\n",
            "E1      0.0   NaN  241.0   10.0   125.0   661.0   58.0   13.0  146.0\n",
            "E2E9    NaN   NaN    NaN    NaN     NaN     NaN    NaN    NaN    NaN\n",
            "E3    241.0   NaN    0.0  333.0   706.0   104.0   65.0  148.0   17.0\n",
            "E4     10.0   NaN  333.0    0.0    85.0   809.0  104.0   37.0  212.0\n",
            "E5    125.0   NaN  706.0   85.0     0.0  1346.0  353.0  218.0  541.0\n",
            "E6    661.0   NaN  104.0  809.0  1346.0     0.0  333.0  500.0  197.0\n",
            "E7     58.0   NaN   65.0  104.0   353.0   333.0    0.0   17.0   20.0\n",
            "E8     13.0   NaN  148.0   37.0   218.0   500.0   17.0    0.0   73.0\n",
            "E10   146.0   NaN   17.0  212.0   541.0   197.0   20.0   73.0    0.0\n"
          ]
        }
      ],
      "source": [
        "print(matrizFusion1)"
      ]
    },
    {
      "cell_type": "code",
      "execution_count": null,
      "id": "4c0340e9-b5e9-48ab-b269-4ba0efeb6e80",
      "metadata": {
        "colab": {
          "base_uri": "https://localhost:8080/"
        },
        "id": "4c0340e9-b5e9-48ab-b269-4ba0efeb6e80",
        "outputId": "55a35725-9749-4014-a209-c574aea33e7b"
      },
      "outputs": [
        {
          "output_type": "stream",
          "name": "stdout",
          "text": [
            "['E1' 'E2E9' 'E3' 'E4' 'E5' 'E6' 'E7' 'E8' 'E10']\n"
          ]
        }
      ],
      "source": [
        "print(clusters)"
      ]
    },
    {
      "cell_type": "code",
      "execution_count": null,
      "id": "53ea8855-180c-4efe-9e71-6ffed905b764",
      "metadata": {
        "colab": {
          "base_uri": "https://localhost:8080/"
        },
        "id": "53ea8855-180c-4efe-9e71-6ffed905b764",
        "outputId": "a426c99c-c273-4ac1-d677-739478d3c477"
      },
      "outputs": [
        {
          "output_type": "stream",
          "name": "stdout",
          "text": [
            "[[  29   45]\n",
            " [   0    2]\n",
            " [ 436  490]\n",
            " [  13   25]\n",
            " [  34   20]\n",
            " [ 964 1042]\n",
            " [ 169  205]\n",
            " [  80  106]\n",
            " [   2    0]\n",
            " [ 305  353]]\n"
          ]
        }
      ],
      "source": [
        "compMin = matrizDistancias[:,posicion[0]]\n",
        "print(compMin)\n",
        "\n"
      ]
    },
    {
      "cell_type": "code",
      "execution_count": null,
      "id": "f6744b61-b7e2-4f8d-bdb5-f181febb9604",
      "metadata": {
        "id": "f6744b61-b7e2-4f8d-bdb5-f181febb9604"
      },
      "outputs": [],
      "source": [
        "mat_new = np.delete(compMin, posicion[0][1], axis=0)"
      ]
    },
    {
      "cell_type": "code",
      "execution_count": null,
      "id": "8eef35e6-8177-470d-a495-a583c0ad8607",
      "metadata": {
        "colab": {
          "base_uri": "https://localhost:8080/"
        },
        "id": "8eef35e6-8177-470d-a495-a583c0ad8607",
        "outputId": "22154501-1126-4642-ee38-71df429da2e1"
      },
      "outputs": [
        {
          "output_type": "stream",
          "name": "stdout",
          "text": [
            "[[  29   45]\n",
            " [   0    2]\n",
            " [ 436  490]\n",
            " [  13   25]\n",
            " [  34   20]\n",
            " [ 964 1042]\n",
            " [ 169  205]\n",
            " [  80  106]\n",
            " [ 305  353]]\n"
          ]
        }
      ],
      "source": [
        "print(mat_new)"
      ]
    },
    {
      "cell_type": "code",
      "execution_count": null,
      "id": "1e839f8a-7b26-47c8-9a88-1e33a033a5c4",
      "metadata": {
        "colab": {
          "base_uri": "https://localhost:8080/"
        },
        "id": "1e839f8a-7b26-47c8-9a88-1e33a033a5c4",
        "outputId": "bc2a1765-196e-4cfa-982f-be7b1fd95ef4"
      },
      "outputs": [
        {
          "output_type": "stream",
          "name": "stdout",
          "text": [
            "[ 29   0 436  13  20 964 169  80 305]\n"
          ]
        }
      ],
      "source": [
        "disClus = np.min(mat_new, axis=1)\n",
        "print(disClus)"
      ]
    },
    {
      "cell_type": "code",
      "execution_count": null,
      "id": "38620aef-ddad-4eb0-8d4c-4601bccc61b4",
      "metadata": {
        "scrolled": true,
        "colab": {
          "base_uri": "https://localhost:8080/"
        },
        "id": "38620aef-ddad-4eb0-8d4c-4601bccc61b4",
        "outputId": "417b4192-4414-4185-c7f6-1e3b6735d531"
      },
      "outputs": [
        {
          "output_type": "stream",
          "name": "stdout",
          "text": [
            "         E1  E2E9     E3     E4      E5      E6     E7     E8    E10\n",
            "E1      0.0   NaN  241.0   10.0   125.0   661.0   58.0   13.0  146.0\n",
            "E2E9    NaN   NaN    NaN    NaN     NaN     NaN    NaN    NaN    NaN\n",
            "E3    241.0   NaN    0.0  333.0   706.0   104.0   65.0  148.0   17.0\n",
            "E4     10.0   NaN  333.0    0.0    85.0   809.0  104.0   37.0  212.0\n",
            "E5    125.0   NaN  706.0   85.0     0.0  1346.0  353.0  218.0  541.0\n",
            "E6    661.0   NaN  104.0  809.0  1346.0     0.0  333.0  500.0  197.0\n",
            "E7     58.0   NaN   65.0  104.0   353.0   333.0    0.0   17.0   20.0\n",
            "E8     13.0   NaN  148.0   37.0   218.0   500.0   17.0    0.0   73.0\n",
            "E10   146.0   NaN   17.0  212.0   541.0   197.0   20.0   73.0    0.0\n"
          ]
        }
      ],
      "source": [
        "\n",
        "print(matrizFusion1)"
      ]
    },
    {
      "cell_type": "code",
      "execution_count": null,
      "id": "f7f842a3-9e84-4a3e-98d4-2cfb65905c43",
      "metadata": {
        "id": "f7f842a3-9e84-4a3e-98d4-2cfb65905c43"
      },
      "outputs": [],
      "source": [
        "matrizFusion1.iloc[:, posicion[0][0]] = disClus\n",
        "matrizFusion1.iloc[posicion[0][0], :] = disClus"
      ]
    },
    {
      "cell_type": "code",
      "execution_count": null,
      "id": "117c8e93-97de-438f-8e00-bdb86c7b3a83",
      "metadata": {
        "colab": {
          "base_uri": "https://localhost:8080/"
        },
        "id": "117c8e93-97de-438f-8e00-bdb86c7b3a83",
        "outputId": "6b936b1c-c17a-40b8-f10a-79a73c6be4d2"
      },
      "outputs": [
        {
          "output_type": "stream",
          "name": "stdout",
          "text": [
            "         E1   E2E9     E3     E4      E5      E6     E7     E8    E10\n",
            "E1      0.0   29.0  241.0   10.0   125.0   661.0   58.0   13.0  146.0\n",
            "E2E9   29.0    0.0  436.0   13.0    20.0   964.0  169.0   80.0  305.0\n",
            "E3    241.0  436.0    0.0  333.0   706.0   104.0   65.0  148.0   17.0\n",
            "E4     10.0   13.0  333.0    0.0    85.0   809.0  104.0   37.0  212.0\n",
            "E5    125.0   20.0  706.0   85.0     0.0  1346.0  353.0  218.0  541.0\n",
            "E6    661.0  964.0  104.0  809.0  1346.0     0.0  333.0  500.0  197.0\n",
            "E7     58.0  169.0   65.0  104.0   353.0   333.0    0.0   17.0   20.0\n",
            "E8     13.0   80.0  148.0   37.0   218.0   500.0   17.0    0.0   73.0\n",
            "E10   146.0  305.0   17.0  212.0   541.0   197.0   20.0   73.0    0.0\n"
          ]
        }
      ],
      "source": [
        "print(matrizFusion1)"
      ]
    },
    {
      "cell_type": "code",
      "source": [],
      "metadata": {
        "id": "Rgp5ufwT0sdD"
      },
      "id": "Rgp5ufwT0sdD",
      "execution_count": null,
      "outputs": []
    },
    {
      "cell_type": "code",
      "execution_count": null,
      "id": "ca28e3a0-9bf7-4fd3-95e1-d49a94009b4b",
      "metadata": {
        "id": "ca28e3a0-9bf7-4fd3-95e1-d49a94009b4b"
      },
      "outputs": [],
      "source": [
        "matrizDistancias1 = matrizDistancias.copy()\n",
        "mat_new = np.delete(matrizDistancias1, posicion[0][0], axis=0)   # borrar fila\n",
        "mat_new = np.delete(mat_new, posicion[0][1], axis=1)"
      ]
    },
    {
      "cell_type": "code",
      "execution_count": null,
      "id": "eb23b02d-5341-44c3-8ded-6aa09d8f49fd",
      "metadata": {
        "id": "eb23b02d-5341-44c3-8ded-6aa09d8f49fd"
      },
      "outputs": [],
      "source": [
        "min1 = matrizFusion1.values[matrizFusion1!= 0].min()"
      ]
    },
    {
      "cell_type": "code",
      "execution_count": null,
      "id": "2a954c47-df98-4e7d-9dc8-686661a9baf0",
      "metadata": {
        "colab": {
          "base_uri": "https://localhost:8080/"
        },
        "id": "2a954c47-df98-4e7d-9dc8-686661a9baf0",
        "outputId": "8d49fa03-e8a2-4d07-ae1f-d16b06a054c6"
      },
      "outputs": [
        {
          "output_type": "stream",
          "name": "stdout",
          "text": [
            "10.0\n"
          ]
        }
      ],
      "source": [
        "print(min1)\n",
        "matrizFusion1Np = matrizFusion1.to_numpy()"
      ]
    },
    {
      "cell_type": "code",
      "execution_count": null,
      "id": "27760f96-d568-45cc-8ed2-4f59c966def9",
      "metadata": {
        "colab": {
          "base_uri": "https://localhost:8080/"
        },
        "id": "27760f96-d568-45cc-8ed2-4f59c966def9",
        "outputId": "fe286459-40cf-4113-8727-2ed043bc9d8f"
      },
      "outputs": [
        {
          "output_type": "stream",
          "name": "stdout",
          "text": [
            "(array([0, 3]), array([3, 0]))\n"
          ]
        }
      ],
      "source": [
        "posicion = np.where(matrizFusion1Np  == min1)\n",
        "print(posicion)"
      ]
    },
    {
      "cell_type": "code",
      "execution_count": null,
      "id": "ab8f20ca-3985-4020-9294-cf79d6aef7f9",
      "metadata": {
        "colab": {
          "base_uri": "https://localhost:8080/",
          "height": 369
        },
        "id": "ab8f20ca-3985-4020-9294-cf79d6aef7f9",
        "outputId": "b546b95f-3c02-4afb-99ef-54e6732b9c52"
      },
      "outputs": [
        {
          "output_type": "stream",
          "name": "stdout",
          "text": [
            "[0 3]\n"
          ]
        },
        {
          "output_type": "execute_result",
          "data": {
            "text/plain": [
              "<pandas.io.formats.style.Styler at 0x7c43a956f1a0>"
            ],
            "text/html": [
              "<style type=\"text/css\">\n",
              "#T_e89ce_row3_col0 {\n",
              "  background-color: yellow;\n",
              "  color: black;\n",
              "  font-weight: bold;\n",
              "}\n",
              "</style>\n",
              "<table id=\"T_e89ce\" class=\"dataframe\">\n",
              "  <thead>\n",
              "    <tr>\n",
              "      <th class=\"blank level0\" >&nbsp;</th>\n",
              "      <th id=\"T_e89ce_level0_col0\" class=\"col_heading level0 col0\" >E1</th>\n",
              "      <th id=\"T_e89ce_level0_col1\" class=\"col_heading level0 col1\" >E2E9</th>\n",
              "      <th id=\"T_e89ce_level0_col2\" class=\"col_heading level0 col2\" >E3</th>\n",
              "      <th id=\"T_e89ce_level0_col3\" class=\"col_heading level0 col3\" >E4</th>\n",
              "      <th id=\"T_e89ce_level0_col4\" class=\"col_heading level0 col4\" >E5</th>\n",
              "      <th id=\"T_e89ce_level0_col5\" class=\"col_heading level0 col5\" >E6</th>\n",
              "      <th id=\"T_e89ce_level0_col6\" class=\"col_heading level0 col6\" >E7</th>\n",
              "      <th id=\"T_e89ce_level0_col7\" class=\"col_heading level0 col7\" >E8</th>\n",
              "      <th id=\"T_e89ce_level0_col8\" class=\"col_heading level0 col8\" >E10</th>\n",
              "    </tr>\n",
              "  </thead>\n",
              "  <tbody>\n",
              "    <tr>\n",
              "      <th id=\"T_e89ce_level0_row0\" class=\"row_heading level0 row0\" >E1</th>\n",
              "      <td id=\"T_e89ce_row0_col0\" class=\"data row0 col0\" >0</td>\n",
              "      <td id=\"T_e89ce_row0_col1\" class=\"data row0 col1\" >29</td>\n",
              "      <td id=\"T_e89ce_row0_col2\" class=\"data row0 col2\" >241</td>\n",
              "      <td id=\"T_e89ce_row0_col3\" class=\"data row0 col3\" >10</td>\n",
              "      <td id=\"T_e89ce_row0_col4\" class=\"data row0 col4\" >125</td>\n",
              "      <td id=\"T_e89ce_row0_col5\" class=\"data row0 col5\" >661</td>\n",
              "      <td id=\"T_e89ce_row0_col6\" class=\"data row0 col6\" >58</td>\n",
              "      <td id=\"T_e89ce_row0_col7\" class=\"data row0 col7\" >13</td>\n",
              "      <td id=\"T_e89ce_row0_col8\" class=\"data row0 col8\" >146</td>\n",
              "    </tr>\n",
              "    <tr>\n",
              "      <th id=\"T_e89ce_level0_row1\" class=\"row_heading level0 row1\" >E2E9</th>\n",
              "      <td id=\"T_e89ce_row1_col0\" class=\"data row1 col0\" >29</td>\n",
              "      <td id=\"T_e89ce_row1_col1\" class=\"data row1 col1\" >0</td>\n",
              "      <td id=\"T_e89ce_row1_col2\" class=\"data row1 col2\" >436</td>\n",
              "      <td id=\"T_e89ce_row1_col3\" class=\"data row1 col3\" >13</td>\n",
              "      <td id=\"T_e89ce_row1_col4\" class=\"data row1 col4\" >20</td>\n",
              "      <td id=\"T_e89ce_row1_col5\" class=\"data row1 col5\" >964</td>\n",
              "      <td id=\"T_e89ce_row1_col6\" class=\"data row1 col6\" >169</td>\n",
              "      <td id=\"T_e89ce_row1_col7\" class=\"data row1 col7\" >80</td>\n",
              "      <td id=\"T_e89ce_row1_col8\" class=\"data row1 col8\" >305</td>\n",
              "    </tr>\n",
              "    <tr>\n",
              "      <th id=\"T_e89ce_level0_row2\" class=\"row_heading level0 row2\" >E3</th>\n",
              "      <td id=\"T_e89ce_row2_col0\" class=\"data row2 col0\" >241</td>\n",
              "      <td id=\"T_e89ce_row2_col1\" class=\"data row2 col1\" >436</td>\n",
              "      <td id=\"T_e89ce_row2_col2\" class=\"data row2 col2\" >0</td>\n",
              "      <td id=\"T_e89ce_row2_col3\" class=\"data row2 col3\" >333</td>\n",
              "      <td id=\"T_e89ce_row2_col4\" class=\"data row2 col4\" >706</td>\n",
              "      <td id=\"T_e89ce_row2_col5\" class=\"data row2 col5\" >104</td>\n",
              "      <td id=\"T_e89ce_row2_col6\" class=\"data row2 col6\" >65</td>\n",
              "      <td id=\"T_e89ce_row2_col7\" class=\"data row2 col7\" >148</td>\n",
              "      <td id=\"T_e89ce_row2_col8\" class=\"data row2 col8\" >17</td>\n",
              "    </tr>\n",
              "    <tr>\n",
              "      <th id=\"T_e89ce_level0_row3\" class=\"row_heading level0 row3\" >E4</th>\n",
              "      <td id=\"T_e89ce_row3_col0\" class=\"data row3 col0\" >10</td>\n",
              "      <td id=\"T_e89ce_row3_col1\" class=\"data row3 col1\" >13</td>\n",
              "      <td id=\"T_e89ce_row3_col2\" class=\"data row3 col2\" >333</td>\n",
              "      <td id=\"T_e89ce_row3_col3\" class=\"data row3 col3\" >0</td>\n",
              "      <td id=\"T_e89ce_row3_col4\" class=\"data row3 col4\" >85</td>\n",
              "      <td id=\"T_e89ce_row3_col5\" class=\"data row3 col5\" >809</td>\n",
              "      <td id=\"T_e89ce_row3_col6\" class=\"data row3 col6\" >104</td>\n",
              "      <td id=\"T_e89ce_row3_col7\" class=\"data row3 col7\" >37</td>\n",
              "      <td id=\"T_e89ce_row3_col8\" class=\"data row3 col8\" >212</td>\n",
              "    </tr>\n",
              "    <tr>\n",
              "      <th id=\"T_e89ce_level0_row4\" class=\"row_heading level0 row4\" >E5</th>\n",
              "      <td id=\"T_e89ce_row4_col0\" class=\"data row4 col0\" >125</td>\n",
              "      <td id=\"T_e89ce_row4_col1\" class=\"data row4 col1\" >20</td>\n",
              "      <td id=\"T_e89ce_row4_col2\" class=\"data row4 col2\" >706</td>\n",
              "      <td id=\"T_e89ce_row4_col3\" class=\"data row4 col3\" >85</td>\n",
              "      <td id=\"T_e89ce_row4_col4\" class=\"data row4 col4\" >0</td>\n",
              "      <td id=\"T_e89ce_row4_col5\" class=\"data row4 col5\" >1346</td>\n",
              "      <td id=\"T_e89ce_row4_col6\" class=\"data row4 col6\" >353</td>\n",
              "      <td id=\"T_e89ce_row4_col7\" class=\"data row4 col7\" >218</td>\n",
              "      <td id=\"T_e89ce_row4_col8\" class=\"data row4 col8\" >541</td>\n",
              "    </tr>\n",
              "    <tr>\n",
              "      <th id=\"T_e89ce_level0_row5\" class=\"row_heading level0 row5\" >E6</th>\n",
              "      <td id=\"T_e89ce_row5_col0\" class=\"data row5 col0\" >661</td>\n",
              "      <td id=\"T_e89ce_row5_col1\" class=\"data row5 col1\" >964</td>\n",
              "      <td id=\"T_e89ce_row5_col2\" class=\"data row5 col2\" >104</td>\n",
              "      <td id=\"T_e89ce_row5_col3\" class=\"data row5 col3\" >809</td>\n",
              "      <td id=\"T_e89ce_row5_col4\" class=\"data row5 col4\" >1346</td>\n",
              "      <td id=\"T_e89ce_row5_col5\" class=\"data row5 col5\" >0</td>\n",
              "      <td id=\"T_e89ce_row5_col6\" class=\"data row5 col6\" >333</td>\n",
              "      <td id=\"T_e89ce_row5_col7\" class=\"data row5 col7\" >500</td>\n",
              "      <td id=\"T_e89ce_row5_col8\" class=\"data row5 col8\" >197</td>\n",
              "    </tr>\n",
              "    <tr>\n",
              "      <th id=\"T_e89ce_level0_row6\" class=\"row_heading level0 row6\" >E7</th>\n",
              "      <td id=\"T_e89ce_row6_col0\" class=\"data row6 col0\" >58</td>\n",
              "      <td id=\"T_e89ce_row6_col1\" class=\"data row6 col1\" >169</td>\n",
              "      <td id=\"T_e89ce_row6_col2\" class=\"data row6 col2\" >65</td>\n",
              "      <td id=\"T_e89ce_row6_col3\" class=\"data row6 col3\" >104</td>\n",
              "      <td id=\"T_e89ce_row6_col4\" class=\"data row6 col4\" >353</td>\n",
              "      <td id=\"T_e89ce_row6_col5\" class=\"data row6 col5\" >333</td>\n",
              "      <td id=\"T_e89ce_row6_col6\" class=\"data row6 col6\" >0</td>\n",
              "      <td id=\"T_e89ce_row6_col7\" class=\"data row6 col7\" >17</td>\n",
              "      <td id=\"T_e89ce_row6_col8\" class=\"data row6 col8\" >20</td>\n",
              "    </tr>\n",
              "    <tr>\n",
              "      <th id=\"T_e89ce_level0_row7\" class=\"row_heading level0 row7\" >E8</th>\n",
              "      <td id=\"T_e89ce_row7_col0\" class=\"data row7 col0\" >13</td>\n",
              "      <td id=\"T_e89ce_row7_col1\" class=\"data row7 col1\" >80</td>\n",
              "      <td id=\"T_e89ce_row7_col2\" class=\"data row7 col2\" >148</td>\n",
              "      <td id=\"T_e89ce_row7_col3\" class=\"data row7 col3\" >37</td>\n",
              "      <td id=\"T_e89ce_row7_col4\" class=\"data row7 col4\" >218</td>\n",
              "      <td id=\"T_e89ce_row7_col5\" class=\"data row7 col5\" >500</td>\n",
              "      <td id=\"T_e89ce_row7_col6\" class=\"data row7 col6\" >17</td>\n",
              "      <td id=\"T_e89ce_row7_col7\" class=\"data row7 col7\" >0</td>\n",
              "      <td id=\"T_e89ce_row7_col8\" class=\"data row7 col8\" >73</td>\n",
              "    </tr>\n",
              "    <tr>\n",
              "      <th id=\"T_e89ce_level0_row8\" class=\"row_heading level0 row8\" >E10</th>\n",
              "      <td id=\"T_e89ce_row8_col0\" class=\"data row8 col0\" >146</td>\n",
              "      <td id=\"T_e89ce_row8_col1\" class=\"data row8 col1\" >305</td>\n",
              "      <td id=\"T_e89ce_row8_col2\" class=\"data row8 col2\" >17</td>\n",
              "      <td id=\"T_e89ce_row8_col3\" class=\"data row8 col3\" >212</td>\n",
              "      <td id=\"T_e89ce_row8_col4\" class=\"data row8 col4\" >541</td>\n",
              "      <td id=\"T_e89ce_row8_col5\" class=\"data row8 col5\" >197</td>\n",
              "      <td id=\"T_e89ce_row8_col6\" class=\"data row8 col6\" >20</td>\n",
              "      <td id=\"T_e89ce_row8_col7\" class=\"data row8 col7\" >73</td>\n",
              "      <td id=\"T_e89ce_row8_col8\" class=\"data row8 col8\" >0</td>\n",
              "    </tr>\n",
              "  </tbody>\n",
              "</table>\n"
            ]
          },
          "metadata": {},
          "execution_count": 325
        }
      ],
      "source": [
        "\n",
        "matrizE= matrizFusion1\n",
        "print(posicion[0])\n",
        "matrizE = matrizE.astype(int)\n",
        "def resaltar_celda(x):\n",
        "    matrizE = pd.DataFrame('', index=x.index, columns=x.columns)\n",
        "    matrizE.iat[posicion[0][1], posicion[0][0] ] = 'background-color: yellow; color: black; font-weight: bold;'\n",
        "    return matrizE\n",
        "\n",
        "matrizE.style.apply(resaltar_celda, axis=None)"
      ]
    },
    {
      "cell_type": "code",
      "source": [],
      "metadata": {
        "id": "WXMAv0uH4BMg"
      },
      "id": "WXMAv0uH4BMg",
      "execution_count": null,
      "outputs": []
    },
    {
      "cell_type": "code",
      "execution_count": null,
      "id": "c3886449-3d05-4f01-87dc-e3dfc13b525f",
      "metadata": {
        "colab": {
          "base_uri": "https://localhost:8080/"
        },
        "id": "c3886449-3d05-4f01-87dc-e3dfc13b525f",
        "outputId": "166347b8-f064-46a9-c6da-b06d91fdc36e"
      },
      "outputs": [
        {
          "output_type": "stream",
          "name": "stdout",
          "text": [
            "       E1E4   E2E9     E3     E4      E5      E6     E7     E8    E10\n",
            "E1E4    0.0   29.0  241.0   10.0   125.0   661.0   58.0   13.0  146.0\n",
            "E2E9   29.0    0.0  436.0   13.0    20.0   964.0  169.0   80.0  305.0\n",
            "E3    241.0  436.0    0.0  333.0   706.0   104.0   65.0  148.0   17.0\n",
            "E4     10.0   13.0  333.0    0.0    85.0   809.0  104.0   37.0  212.0\n",
            "E5    125.0   20.0  706.0   85.0     0.0  1346.0  353.0  218.0  541.0\n",
            "E6    661.0  964.0  104.0  809.0  1346.0     0.0  333.0  500.0  197.0\n",
            "E7     58.0  169.0   65.0  104.0   353.0   333.0    0.0   17.0   20.0\n",
            "E8     13.0   80.0  148.0   37.0   218.0   500.0   17.0    0.0   73.0\n",
            "E10   146.0  305.0   17.0  212.0   541.0   197.0   20.0   73.0    0.0\n"
          ]
        }
      ],
      "source": [
        "clusters[posicion[0][0]] = \"{}{}\".format(etiquetas[posicion[0][0]], etiquetas[posicion[0][1]])\n",
        "\n",
        "clusters = np.delete(clusters, posicion[0][1])\n",
        "\n",
        "\n",
        "print(matrizFusion1)"
      ]
    },
    {
      "cell_type": "code",
      "execution_count": null,
      "id": "81a1a0cd-7ccd-4e4b-8033-406ad6ab4e70",
      "metadata": {
        "colab": {
          "base_uri": "https://localhost:8080/"
        },
        "id": "81a1a0cd-7ccd-4e4b-8033-406ad6ab4e70",
        "outputId": "809130fc-916a-413b-bede-bb23859e2c72"
      },
      "outputs": [
        {
          "output_type": "stream",
          "name": "stdout",
          "text": [
            "[[  0  10]\n",
            " [ 29  13]\n",
            " [241 333]\n",
            " [ 10   0]\n",
            " [125  85]\n",
            " [661 809]\n",
            " [ 58 104]\n",
            " [ 13  37]\n",
            " [ 45  25]\n",
            " [146 212]]\n"
          ]
        }
      ],
      "source": [
        "compMin = matrizDistancias[:,posicion[0]]\n",
        "print(compMin)"
      ]
    },
    {
      "cell_type": "code",
      "execution_count": null,
      "id": "86284c40-17e7-4464-a09e-0ed3faafe643",
      "metadata": {
        "id": "86284c40-17e7-4464-a09e-0ed3faafe643"
      },
      "outputs": [],
      "source": [
        "mat_new = np.delete(compMin, posicion[0][1], axis=0)"
      ]
    },
    {
      "cell_type": "code",
      "execution_count": null,
      "id": "6a9ef09f-ce1a-41e2-93b8-f5a451868eea",
      "metadata": {
        "colab": {
          "base_uri": "https://localhost:8080/"
        },
        "id": "6a9ef09f-ce1a-41e2-93b8-f5a451868eea",
        "outputId": "449dab48-392f-4678-d76e-d6b954a135a8"
      },
      "outputs": [
        {
          "output_type": "stream",
          "name": "stdout",
          "text": [
            "[[  0  10]\n",
            " [ 29  13]\n",
            " [241 333]\n",
            " [125  85]\n",
            " [661 809]\n",
            " [ 58 104]\n",
            " [ 13  37]\n",
            " [ 45  25]\n",
            " [146 212]]\n"
          ]
        }
      ],
      "source": [
        "print(mat_new)"
      ]
    },
    {
      "cell_type": "code",
      "execution_count": null,
      "id": "13e3aeed-a5c3-44e6-808d-a6f766348c2c",
      "metadata": {
        "colab": {
          "base_uri": "https://localhost:8080/"
        },
        "id": "13e3aeed-a5c3-44e6-808d-a6f766348c2c",
        "outputId": "6fc729a3-2207-4aad-8a82-24785763d84f"
      },
      "outputs": [
        {
          "output_type": "stream",
          "name": "stdout",
          "text": [
            "[  0  13 241  85 661  58  13  25 146]\n"
          ]
        }
      ],
      "source": [
        "disClus = np.min(mat_new, axis=1)\n",
        "print(disClus)"
      ]
    },
    {
      "cell_type": "code",
      "execution_count": null,
      "id": "660cacc2-9fb0-49b8-b884-e2014e437788",
      "metadata": {
        "id": "660cacc2-9fb0-49b8-b884-e2014e437788"
      },
      "outputs": [],
      "source": [
        "matrizFusion1.iloc[:, posicion[0][0]] = disClus\n",
        "matrizFusion1.iloc[posicion[0][0], :] = disClus"
      ]
    },
    {
      "cell_type": "code",
      "execution_count": null,
      "id": "c2a4c6ae-5f8b-45e8-8973-41d2bb205897",
      "metadata": {
        "colab": {
          "base_uri": "https://localhost:8080/"
        },
        "id": "c2a4c6ae-5f8b-45e8-8973-41d2bb205897",
        "outputId": "688b1168-327e-462f-f7c3-b8b5fb6102a7"
      },
      "outputs": [
        {
          "output_type": "stream",
          "name": "stdout",
          "text": [
            "       E1E4   E2E9     E3     E4      E5      E6     E7     E8    E10\n",
            "E1E4    0.0   13.0  241.0   85.0   661.0    58.0   13.0   25.0  146.0\n",
            "E2E9   13.0    0.0  436.0   13.0    20.0   964.0  169.0   80.0  305.0\n",
            "E3    241.0  436.0    0.0  333.0   706.0   104.0   65.0  148.0   17.0\n",
            "E4     85.0   13.0  333.0    0.0    85.0   809.0  104.0   37.0  212.0\n",
            "E5    661.0   20.0  706.0   85.0     0.0  1346.0  353.0  218.0  541.0\n",
            "E6     58.0  964.0  104.0  809.0  1346.0     0.0  333.0  500.0  197.0\n",
            "E7     13.0  169.0   65.0  104.0   353.0   333.0    0.0   17.0   20.0\n",
            "E8     25.0   80.0  148.0   37.0   218.0   500.0   17.0    0.0   73.0\n",
            "E10   146.0  305.0   17.0  212.0   541.0   197.0   20.0   73.0    0.0\n"
          ]
        }
      ],
      "source": [
        "print(matrizFusion1)\n",
        "matrizFusion1 = matrizFusion1.astype(int)"
      ]
    },
    {
      "cell_type": "code",
      "source": [
        "matrizDistancias = matrizFusion1.to_numpy()"
      ],
      "metadata": {
        "id": "5G_RgQkW50wM"
      },
      "id": "5G_RgQkW50wM",
      "execution_count": null,
      "outputs": []
    },
    {
      "cell_type": "code",
      "source": [
        "sim = np.min(matrizDistancias[np.nonzero(matrizDistancias)])\n",
        "print(\"distancia minima: \", sim)\n",
        "posicion = np.argwhere(matrizDistancias == sim)"
      ],
      "metadata": {
        "colab": {
          "base_uri": "https://localhost:8080/"
        },
        "id": "5_-XPmSi5wz_",
        "outputId": "041c086d-6776-491b-a896-dd4d0c33c449"
      },
      "id": "5_-XPmSi5wz_",
      "execution_count": null,
      "outputs": [
        {
          "output_type": "stream",
          "name": "stdout",
          "text": [
            "distancia minima:  13\n"
          ]
        }
      ]
    },
    {
      "cell_type": "code",
      "source": [
        "print(posicion[0])\n",
        "print(matrizDistancias[posicion[0][1]][posicion[0][0]] )"
      ],
      "metadata": {
        "colab": {
          "base_uri": "https://localhost:8080/"
        },
        "id": "ZL64ExoG6Fxc",
        "outputId": "85d8d3ab-9202-4d27-c54f-6639f237759e"
      },
      "id": "ZL64ExoG6Fxc",
      "execution_count": null,
      "outputs": [
        {
          "output_type": "stream",
          "name": "stdout",
          "text": [
            "[0 1]\n",
            "13\n"
          ]
        }
      ]
    },
    {
      "cell_type": "code",
      "source": [
        "clusters[posicion[0][0]] = clusters[posicion[0][0]] + clusters[posicion[0][1]]"
      ],
      "metadata": {
        "id": "WHs7E_Zk6lRN"
      },
      "id": "WHs7E_Zk6lRN",
      "execution_count": null,
      "outputs": []
    },
    {
      "cell_type": "code",
      "source": [
        "clusters = np.delete(clusters, posicion[0][1])\n",
        "print(clusters)"
      ],
      "metadata": {
        "colab": {
          "base_uri": "https://localhost:8080/"
        },
        "id": "yDeblnHs7nu0",
        "outputId": "5f58ca13-d562-4680-d07e-fb3c1b1edb9c"
      },
      "id": "yDeblnHs7nu0",
      "execution_count": null,
      "outputs": [
        {
          "output_type": "stream",
          "name": "stdout",
          "text": [
            "['E1E4E2E9' 'E3' 'E5' 'E6' 'E7' 'E8' 'E10']\n"
          ]
        }
      ]
    },
    {
      "cell_type": "code",
      "source": [
        "print(matrizDistancias )"
      ],
      "metadata": {
        "colab": {
          "base_uri": "https://localhost:8080/"
        },
        "id": "bw2YoEVx8IHg",
        "outputId": "900f96b9-c035-46bd-9225-485224469824"
      },
      "id": "bw2YoEVx8IHg",
      "execution_count": null,
      "outputs": [
        {
          "output_type": "stream",
          "name": "stdout",
          "text": [
            "[[   0   13  241   85  661   58   13   25  146]\n",
            " [  13    0  436   13   20  964  169   80  305]\n",
            " [ 241  436    0  333  706  104   65  148   17]\n",
            " [  85   13  333    0   85  809  104   37  212]\n",
            " [ 661   20  706   85    0 1346  353  218  541]\n",
            " [  58  964  104  809 1346    0  333  500  197]\n",
            " [  13  169   65  104  353  333    0   17   20]\n",
            " [  25   80  148   37  218  500   17    0   73]\n",
            " [ 146  305   17  212  541  197   20   73    0]]\n"
          ]
        }
      ]
    },
    {
      "cell_type": "code",
      "source": [
        "print(matrizDistancias[posicion[0]])"
      ],
      "metadata": {
        "colab": {
          "base_uri": "https://localhost:8080/"
        },
        "id": "jlwKUQhq9iaR",
        "outputId": "b3985481-2e15-483d-97a9-42e4e9569256"
      },
      "id": "jlwKUQhq9iaR",
      "execution_count": null,
      "outputs": [
        {
          "output_type": "stream",
          "name": "stdout",
          "text": [
            "[[  0  13 241  85 661  58  13  25 146]\n",
            " [ 13   0 436  13  20 964 169  80 305]]\n"
          ]
        }
      ]
    },
    {
      "cell_type": "code",
      "source": [
        "matrizf= np.delete(matrizDistancias, posicion[0][1], axis=1)\n",
        "matrizf= np.delete(matrizf, posicion[0][1], axis=0)"
      ],
      "metadata": {
        "id": "MHPttM4k8WzN"
      },
      "id": "MHPttM4k8WzN",
      "execution_count": null,
      "outputs": []
    }
  ],
  "metadata": {
    "kernelspec": {
      "display_name": "Python 3 (ipykernel)",
      "language": "python",
      "name": "python3"
    },
    "language_info": {
      "codemirror_mode": {
        "name": "ipython",
        "version": 3
      },
      "file_extension": ".py",
      "mimetype": "text/x-python",
      "name": "python",
      "nbconvert_exporter": "python",
      "pygments_lexer": "ipython3",
      "version": "3.12.3"
    },
    "colab": {
      "provenance": [],
      "include_colab_link": true
    }
  },
  "nbformat": 4,
  "nbformat_minor": 5
}